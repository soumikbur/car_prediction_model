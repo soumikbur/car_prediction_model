{
 "cells": [
  {
   "cell_type": "markdown",
   "id": "024f76bb",
   "metadata": {
    "papermill": {
     "duration": 0.02076,
     "end_time": "2023-10-28T18:45:11.371156",
     "exception": false,
     "start_time": "2023-10-28T18:45:11.350396",
     "status": "completed"
    },
    "tags": []
   },
   "source": [
    "# Necessary libraries"
   ]
  },
  {
   "cell_type": "code",
   "execution_count": 23,
   "id": "1bfabdb4",
   "metadata": {
    "execution": {
     "iopub.execute_input": "2023-10-28T18:45:11.410921Z",
     "iopub.status.busy": "2023-10-28T18:45:11.410471Z",
     "iopub.status.idle": "2023-10-28T18:45:15.811391Z",
     "shell.execute_reply": "2023-10-28T18:45:15.809736Z"
    },
    "papermill": {
     "duration": 4.425711,
     "end_time": "2023-10-28T18:45:15.815872",
     "exception": false,
     "start_time": "2023-10-28T18:45:11.390161",
     "status": "completed"
    },
    "tags": []
   },
   "outputs": [],
   "source": [
    "import matplotlib.pyplot as plt\n",
    "import pandas as pd\n",
    "import seaborn as sns\n",
    "import numpy as np\n",
    "import plotly.express as px\n",
    "from sklearn.preprocessing import StandardScaler\n",
    "from sklearn.model_selection import train_test_split\n",
    "from sklearn.metrics import r2_score\n",
    "from sklearn.linear_model import LinearRegression\n",
    "from sklearn import metrics\n",
    "from sklearn.tree import DecisionTreeRegressor\n",
    "from sklearn.ensemble import RandomForestRegressor\n",
    "from sklearn.svm import SVR\n",
    "from sklearn.neighbors import KNeighborsRegressor\n",
    "import pickle"
   ]
  },
  {
   "cell_type": "code",
   "execution_count": 24,
   "id": "bacf2bc0",
   "metadata": {
    "execution": {
     "iopub.execute_input": "2023-10-28T18:45:15.862322Z",
     "iopub.status.busy": "2023-10-28T18:45:15.861361Z",
     "iopub.status.idle": "2023-10-28T18:45:15.869389Z",
     "shell.execute_reply": "2023-10-28T18:45:15.865287Z"
    },
    "papermill": {
     "duration": 0.040208,
     "end_time": "2023-10-28T18:45:15.876977",
     "exception": false,
     "start_time": "2023-10-28T18:45:15.836769",
     "status": "completed"
    },
    "tags": []
   },
   "outputs": [],
   "source": [
    "import warnings\n",
    "warnings.filterwarnings(\"ignore\")"
   ]
  },
  {
   "cell_type": "code",
   "execution_count": 25,
   "id": "7641a60c",
   "metadata": {
    "execution": {
     "iopub.execute_input": "2023-10-28T18:45:15.936092Z",
     "iopub.status.busy": "2023-10-28T18:45:15.934995Z",
     "iopub.status.idle": "2023-10-28T18:45:15.979199Z",
     "shell.execute_reply": "2023-10-28T18:45:15.977788Z"
    },
    "papermill": {
     "duration": 0.075916,
     "end_time": "2023-10-28T18:45:15.982177",
     "exception": false,
     "start_time": "2023-10-28T18:45:15.906261",
     "status": "completed"
    },
    "tags": []
   },
   "outputs": [],
   "source": [
    "data = pd.read_csv(\"D:\\VS code\\car_price_predictor\\quikr_car.csv\")"
   ]
  },
  {
   "cell_type": "code",
   "execution_count": 26,
   "id": "74f49b7a",
   "metadata": {
    "execution": {
     "iopub.execute_input": "2023-10-28T18:45:16.041730Z",
     "iopub.status.busy": "2023-10-28T18:45:16.040581Z",
     "iopub.status.idle": "2023-10-28T18:45:16.048352Z",
     "shell.execute_reply": "2023-10-28T18:45:16.046482Z"
    },
    "papermill": {
     "duration": 0.045995,
     "end_time": "2023-10-28T18:45:16.051666",
     "exception": false,
     "start_time": "2023-10-28T18:45:16.005671",
     "status": "completed"
    },
    "tags": []
   },
   "outputs": [],
   "source": [
    "df = pd.DataFrame(data)"
   ]
  },
  {
   "cell_type": "markdown",
   "id": "5b942713",
   "metadata": {
    "papermill": {
     "duration": 0.018526,
     "end_time": "2023-10-28T18:45:16.090109",
     "exception": false,
     "start_time": "2023-10-28T18:45:16.071583",
     "status": "completed"
    },
    "tags": []
   },
   "source": [
    "# Data Understanding"
   ]
  },
  {
   "cell_type": "code",
   "execution_count": 27,
   "id": "c2a7ac65",
   "metadata": {
    "execution": {
     "iopub.execute_input": "2023-10-28T18:45:16.132296Z",
     "iopub.status.busy": "2023-10-28T18:45:16.131845Z",
     "iopub.status.idle": "2023-10-28T18:45:16.142041Z",
     "shell.execute_reply": "2023-10-28T18:45:16.140721Z"
    },
    "papermill": {
     "duration": 0.036692,
     "end_time": "2023-10-28T18:45:16.145915",
     "exception": false,
     "start_time": "2023-10-28T18:45:16.109223",
     "status": "completed"
    },
    "tags": []
   },
   "outputs": [
    {
     "name": "stdout",
     "output_type": "stream",
     "text": [
      "name: No description available\n",
      "company: No description available\n",
      "year: No description available\n",
      "Price: No description available\n",
      "kms_driven: No description available\n",
      "fuel_type: No description available\n"
     ]
    }
   ],
   "source": [
    "# Display descriptions for each feature.\n",
    "descriptions = {\n",
    "    'car_ID': \"Unique identifier for each car\",\n",
    "    'symboling': \"Insurance risk rating for the car\",\n",
    "    'CarName': \"Name or model of the car\",\n",
    "    'fueltype': \"Type of fuel used (gas or diesel)\",\n",
    "    'aspiration': \"Method of air intake for the engine (std or turbo)\",\n",
    "    'doornumber': \"Number of doors on the car\",\n",
    "    'carbody': \"Type of car body or design (sedan, hatchback, etc.)\",\n",
    "    'drivewheel': \"Type of drivetrain or wheels (FWD, RWD, 4WD)\",\n",
    "    'enginelocation': \"Engine location (front or rear)\",\n",
    "    'wheelbase': \"Distance between front and rear axles\",\n",
    "    'carlength': \"Length of the car\",\n",
    "    'carwidth': \"Width of the car\",\n",
    "    'carheight': \"Height of the car\",\n",
    "    'curbweight': \"Weight of the car without passengers or cargo\",\n",
    "    'enginetype': \"Type of engine (ohc, ohcv, etc.)\",\n",
    "    'cylindernumber': \"Number of cylinders in the engine\",\n",
    "    'enginesize': \"Size of the engine (in cc or ci)\",\n",
    "    'fuelsystem': \"Type of fuel injection system (mpfi, etc.)\",\n",
    "    'boreratio': \"Ratio of cylinder bore diameter to stroke length\",\n",
    "    'stroke': \"Length of the engine stroke\",\n",
    "    'compressionratio': \"Engine compression ratio\",\n",
    "    'horsepower': \"Engine power output (in hp)\",\n",
    "    'peakrpm': \"Engine's peak RPM for generating power\",\n",
    "    'citympg': \"Fuel efficiency in city driving (mpg)\",\n",
    "    'highwaympg': \"Fuel efficiency on the highway (mpg)\",\n",
    "    'price': \"Price of the car\"\n",
    "}\n",
    "\n",
    "for column in df.columns:\n",
    "    print(f\"{column}: {descriptions.get(column, 'No description available')}\")"
   ]
  },
  {
   "cell_type": "code",
   "execution_count": 28,
   "id": "1c639703",
   "metadata": {
    "execution": {
     "iopub.execute_input": "2023-10-28T18:45:16.201414Z",
     "iopub.status.busy": "2023-10-28T18:45:16.200692Z",
     "iopub.status.idle": "2023-10-28T18:45:16.255052Z",
     "shell.execute_reply": "2023-10-28T18:45:16.253451Z"
    },
    "papermill": {
     "duration": 0.08389,
     "end_time": "2023-10-28T18:45:16.257987",
     "exception": false,
     "start_time": "2023-10-28T18:45:16.174097",
     "status": "completed"
    },
    "tags": []
   },
   "outputs": [
    {
     "data": {
      "text/html": [
       "<div>\n",
       "<style scoped>\n",
       "    .dataframe tbody tr th:only-of-type {\n",
       "        vertical-align: middle;\n",
       "    }\n",
       "\n",
       "    .dataframe tbody tr th {\n",
       "        vertical-align: top;\n",
       "    }\n",
       "\n",
       "    .dataframe thead th {\n",
       "        text-align: right;\n",
       "    }\n",
       "</style>\n",
       "<table border=\"1\" class=\"dataframe\">\n",
       "  <thead>\n",
       "    <tr style=\"text-align: right;\">\n",
       "      <th></th>\n",
       "      <th>name</th>\n",
       "      <th>company</th>\n",
       "      <th>year</th>\n",
       "      <th>Price</th>\n",
       "      <th>kms_driven</th>\n",
       "      <th>fuel_type</th>\n",
       "    </tr>\n",
       "  </thead>\n",
       "  <tbody>\n",
       "    <tr>\n",
       "      <th>0</th>\n",
       "      <td>Hyundai Santro Xing XO eRLX Euro III</td>\n",
       "      <td>Hyundai</td>\n",
       "      <td>2007</td>\n",
       "      <td>80,000</td>\n",
       "      <td>45,000 kms</td>\n",
       "      <td>Petrol</td>\n",
       "    </tr>\n",
       "    <tr>\n",
       "      <th>1</th>\n",
       "      <td>Mahindra Jeep CL550 MDI</td>\n",
       "      <td>Mahindra</td>\n",
       "      <td>2006</td>\n",
       "      <td>4,25,000</td>\n",
       "      <td>40 kms</td>\n",
       "      <td>Diesel</td>\n",
       "    </tr>\n",
       "    <tr>\n",
       "      <th>2</th>\n",
       "      <td>Maruti Suzuki Alto 800 Vxi</td>\n",
       "      <td>Maruti</td>\n",
       "      <td>2018</td>\n",
       "      <td>Ask For Price</td>\n",
       "      <td>22,000 kms</td>\n",
       "      <td>Petrol</td>\n",
       "    </tr>\n",
       "    <tr>\n",
       "      <th>3</th>\n",
       "      <td>Hyundai Grand i10 Magna 1.2 Kappa VTVT</td>\n",
       "      <td>Hyundai</td>\n",
       "      <td>2014</td>\n",
       "      <td>3,25,000</td>\n",
       "      <td>28,000 kms</td>\n",
       "      <td>Petrol</td>\n",
       "    </tr>\n",
       "    <tr>\n",
       "      <th>4</th>\n",
       "      <td>Ford EcoSport Titanium 1.5L TDCi</td>\n",
       "      <td>Ford</td>\n",
       "      <td>2014</td>\n",
       "      <td>5,75,000</td>\n",
       "      <td>36,000 kms</td>\n",
       "      <td>Diesel</td>\n",
       "    </tr>\n",
       "  </tbody>\n",
       "</table>\n",
       "</div>"
      ],
      "text/plain": [
       "                                     name   company  year          Price  \\\n",
       "0    Hyundai Santro Xing XO eRLX Euro III   Hyundai  2007         80,000   \n",
       "1                 Mahindra Jeep CL550 MDI  Mahindra  2006       4,25,000   \n",
       "2              Maruti Suzuki Alto 800 Vxi    Maruti  2018  Ask For Price   \n",
       "3  Hyundai Grand i10 Magna 1.2 Kappa VTVT   Hyundai  2014       3,25,000   \n",
       "4        Ford EcoSport Titanium 1.5L TDCi      Ford  2014       5,75,000   \n",
       "\n",
       "   kms_driven fuel_type  \n",
       "0  45,000 kms    Petrol  \n",
       "1      40 kms    Diesel  \n",
       "2  22,000 kms    Petrol  \n",
       "3  28,000 kms    Petrol  \n",
       "4  36,000 kms    Diesel  "
      ]
     },
     "execution_count": 28,
     "metadata": {},
     "output_type": "execute_result"
    }
   ],
   "source": [
    "df.head()"
   ]
  },
  {
   "cell_type": "code",
   "execution_count": 29,
   "id": "6a48d1fb",
   "metadata": {
    "execution": {
     "iopub.execute_input": "2023-10-28T18:45:16.300423Z",
     "iopub.status.busy": "2023-10-28T18:45:16.300016Z",
     "iopub.status.idle": "2023-10-28T18:45:16.313122Z",
     "shell.execute_reply": "2023-10-28T18:45:16.311263Z"
    },
    "papermill": {
     "duration": 0.037835,
     "end_time": "2023-10-28T18:45:16.316883",
     "exception": false,
     "start_time": "2023-10-28T18:45:16.279048",
     "status": "completed"
    },
    "tags": []
   },
   "outputs": [
    {
     "data": {
      "text/plain": [
       "name           0\n",
       "company        0\n",
       "year           0\n",
       "Price          0\n",
       "kms_driven    52\n",
       "fuel_type     55\n",
       "dtype: int64"
      ]
     },
     "execution_count": 29,
     "metadata": {},
     "output_type": "execute_result"
    }
   ],
   "source": [
    "# check for missing values\n",
    "df.isnull().sum()"
   ]
  },
  {
   "cell_type": "markdown",
   "id": "1cbe5b9c",
   "metadata": {
    "papermill": {
     "duration": 0.021402,
     "end_time": "2023-10-28T18:45:16.358718",
     "exception": false,
     "start_time": "2023-10-28T18:45:16.337316",
     "status": "completed"
    },
    "tags": []
   },
   "source": [
    "####  there is no missing"
   ]
  },
  {
   "cell_type": "code",
   "execution_count": 30,
   "id": "bc5d893e",
   "metadata": {
    "execution": {
     "iopub.execute_input": "2023-10-28T18:45:16.402989Z",
     "iopub.status.busy": "2023-10-28T18:45:16.402175Z",
     "iopub.status.idle": "2023-10-28T18:45:16.438352Z",
     "shell.execute_reply": "2023-10-28T18:45:16.436533Z"
    },
    "papermill": {
     "duration": 0.062057,
     "end_time": "2023-10-28T18:45:16.441490",
     "exception": false,
     "start_time": "2023-10-28T18:45:16.379433",
     "status": "completed"
    },
    "tags": []
   },
   "outputs": [
    {
     "name": "stdout",
     "output_type": "stream",
     "text": [
      "<class 'pandas.core.frame.DataFrame'>\n",
      "RangeIndex: 892 entries, 0 to 891\n",
      "Data columns (total 6 columns):\n",
      " #   Column      Non-Null Count  Dtype \n",
      "---  ------      --------------  ----- \n",
      " 0   name        892 non-null    object\n",
      " 1   company     892 non-null    object\n",
      " 2   year        892 non-null    object\n",
      " 3   Price       892 non-null    object\n",
      " 4   kms_driven  840 non-null    object\n",
      " 5   fuel_type   837 non-null    object\n",
      "dtypes: object(6)\n",
      "memory usage: 41.9+ KB\n"
     ]
    }
   ],
   "source": [
    "df.info()"
   ]
  },
  {
   "cell_type": "code",
   "execution_count": 31,
   "id": "b4425c30",
   "metadata": {
    "execution": {
     "iopub.execute_input": "2023-10-28T18:45:16.555639Z",
     "iopub.status.busy": "2023-10-28T18:45:16.555172Z",
     "iopub.status.idle": "2023-10-28T18:45:16.573810Z",
     "shell.execute_reply": "2023-10-28T18:45:16.572066Z"
    },
    "papermill": {
     "duration": 0.044909,
     "end_time": "2023-10-28T18:45:16.578911",
     "exception": false,
     "start_time": "2023-10-28T18:45:16.534002",
     "status": "completed"
    },
    "tags": []
   },
   "outputs": [
    {
     "name": "stdout",
     "output_type": "stream",
     "text": [
      "Duplicate Values = 94\n"
     ]
    }
   ],
   "source": [
    "# check for duplicated values\n",
    "print(\"Duplicate Values =\",df.duplicated().sum())"
   ]
  },
  {
   "cell_type": "code",
   "execution_count": 32,
   "id": "3490e41a",
   "metadata": {
    "execution": {
     "iopub.execute_input": "2023-10-28T18:45:16.628824Z",
     "iopub.status.busy": "2023-10-28T18:45:16.627378Z",
     "iopub.status.idle": "2023-10-28T18:45:16.802876Z",
     "shell.execute_reply": "2023-10-28T18:45:16.801703Z"
    },
    "papermill": {
     "duration": 0.203345,
     "end_time": "2023-10-28T18:45:16.805408",
     "exception": false,
     "start_time": "2023-10-28T18:45:16.602063",
     "status": "completed"
    },
    "tags": []
   },
   "outputs": [
    {
     "data": {
      "text/html": [
       "<div>\n",
       "<style scoped>\n",
       "    .dataframe tbody tr th:only-of-type {\n",
       "        vertical-align: middle;\n",
       "    }\n",
       "\n",
       "    .dataframe tbody tr th {\n",
       "        vertical-align: top;\n",
       "    }\n",
       "\n",
       "    .dataframe thead th {\n",
       "        text-align: right;\n",
       "    }\n",
       "</style>\n",
       "<table border=\"1\" class=\"dataframe\">\n",
       "  <thead>\n",
       "    <tr style=\"text-align: right;\">\n",
       "      <th></th>\n",
       "      <th>name</th>\n",
       "      <th>company</th>\n",
       "      <th>year</th>\n",
       "      <th>Price</th>\n",
       "      <th>kms_driven</th>\n",
       "      <th>fuel_type</th>\n",
       "    </tr>\n",
       "  </thead>\n",
       "  <tbody>\n",
       "    <tr>\n",
       "      <th>count</th>\n",
       "      <td>892</td>\n",
       "      <td>892</td>\n",
       "      <td>892</td>\n",
       "      <td>892</td>\n",
       "      <td>840</td>\n",
       "      <td>837</td>\n",
       "    </tr>\n",
       "    <tr>\n",
       "      <th>unique</th>\n",
       "      <td>525</td>\n",
       "      <td>48</td>\n",
       "      <td>61</td>\n",
       "      <td>274</td>\n",
       "      <td>258</td>\n",
       "      <td>3</td>\n",
       "    </tr>\n",
       "    <tr>\n",
       "      <th>top</th>\n",
       "      <td>Honda City</td>\n",
       "      <td>Maruti</td>\n",
       "      <td>2015</td>\n",
       "      <td>Ask For Price</td>\n",
       "      <td>45,000 kms</td>\n",
       "      <td>Petrol</td>\n",
       "    </tr>\n",
       "    <tr>\n",
       "      <th>freq</th>\n",
       "      <td>13</td>\n",
       "      <td>235</td>\n",
       "      <td>117</td>\n",
       "      <td>35</td>\n",
       "      <td>30</td>\n",
       "      <td>440</td>\n",
       "    </tr>\n",
       "  </tbody>\n",
       "</table>\n",
       "</div>"
      ],
      "text/plain": [
       "              name company  year          Price  kms_driven fuel_type\n",
       "count          892     892   892            892         840       837\n",
       "unique         525      48    61            274         258         3\n",
       "top     Honda City  Maruti  2015  Ask For Price  45,000 kms    Petrol\n",
       "freq            13     235   117             35          30       440"
      ]
     },
     "execution_count": 32,
     "metadata": {},
     "output_type": "execute_result"
    }
   ],
   "source": [
    "df.describe()"
   ]
  },
  {
   "cell_type": "code",
   "execution_count": 33,
   "id": "694fae5a",
   "metadata": {
    "execution": {
     "iopub.execute_input": "2023-10-28T18:45:16.847929Z",
     "iopub.status.busy": "2023-10-28T18:45:16.847039Z",
     "iopub.status.idle": "2023-10-28T18:45:16.887930Z",
     "shell.execute_reply": "2023-10-28T18:45:16.886260Z"
    },
    "papermill": {
     "duration": 0.066365,
     "end_time": "2023-10-28T18:45:16.891782",
     "exception": false,
     "start_time": "2023-10-28T18:45:16.825417",
     "status": "completed"
    },
    "tags": []
   },
   "outputs": [
    {
     "data": {
      "text/html": [
       "<div>\n",
       "<style scoped>\n",
       "    .dataframe tbody tr th:only-of-type {\n",
       "        vertical-align: middle;\n",
       "    }\n",
       "\n",
       "    .dataframe tbody tr th {\n",
       "        vertical-align: top;\n",
       "    }\n",
       "\n",
       "    .dataframe thead th {\n",
       "        text-align: right;\n",
       "    }\n",
       "</style>\n",
       "<table border=\"1\" class=\"dataframe\">\n",
       "  <thead>\n",
       "    <tr style=\"text-align: right;\">\n",
       "      <th></th>\n",
       "      <th>name</th>\n",
       "      <th>company</th>\n",
       "      <th>year</th>\n",
       "      <th>Price</th>\n",
       "      <th>kms_driven</th>\n",
       "      <th>fuel_type</th>\n",
       "    </tr>\n",
       "  </thead>\n",
       "  <tbody>\n",
       "    <tr>\n",
       "      <th>count</th>\n",
       "      <td>892</td>\n",
       "      <td>892</td>\n",
       "      <td>892</td>\n",
       "      <td>892</td>\n",
       "      <td>840</td>\n",
       "      <td>837</td>\n",
       "    </tr>\n",
       "    <tr>\n",
       "      <th>unique</th>\n",
       "      <td>525</td>\n",
       "      <td>48</td>\n",
       "      <td>61</td>\n",
       "      <td>274</td>\n",
       "      <td>258</td>\n",
       "      <td>3</td>\n",
       "    </tr>\n",
       "    <tr>\n",
       "      <th>top</th>\n",
       "      <td>Honda City</td>\n",
       "      <td>Maruti</td>\n",
       "      <td>2015</td>\n",
       "      <td>Ask For Price</td>\n",
       "      <td>45,000 kms</td>\n",
       "      <td>Petrol</td>\n",
       "    </tr>\n",
       "    <tr>\n",
       "      <th>freq</th>\n",
       "      <td>13</td>\n",
       "      <td>235</td>\n",
       "      <td>117</td>\n",
       "      <td>35</td>\n",
       "      <td>30</td>\n",
       "      <td>440</td>\n",
       "    </tr>\n",
       "  </tbody>\n",
       "</table>\n",
       "</div>"
      ],
      "text/plain": [
       "              name company  year          Price  kms_driven fuel_type\n",
       "count          892     892   892            892         840       837\n",
       "unique         525      48    61            274         258         3\n",
       "top     Honda City  Maruti  2015  Ask For Price  45,000 kms    Petrol\n",
       "freq            13     235   117             35          30       440"
      ]
     },
     "execution_count": 33,
     "metadata": {},
     "output_type": "execute_result"
    }
   ],
   "source": [
    "df.describe(include='object')"
   ]
  },
  {
   "cell_type": "markdown",
   "id": "58d38dc4",
   "metadata": {
    "papermill": {
     "duration": 0.020562,
     "end_time": "2023-10-28T18:45:16.933107",
     "exception": false,
     "start_time": "2023-10-28T18:45:16.912545",
     "status": "completed"
    },
    "tags": []
   },
   "source": [
    "# Data Cleaning"
   ]
  },
  {
   "cell_type": "code",
   "execution_count": 34,
   "id": "aa91899e",
   "metadata": {
    "execution": {
     "iopub.execute_input": "2023-10-28T18:45:16.982813Z",
     "iopub.status.busy": "2023-10-28T18:45:16.982379Z",
     "iopub.status.idle": "2023-10-28T18:45:16.992073Z",
     "shell.execute_reply": "2023-10-28T18:45:16.990657Z"
    },
    "papermill": {
     "duration": 0.040428,
     "end_time": "2023-10-28T18:45:16.994543",
     "exception": false,
     "start_time": "2023-10-28T18:45:16.954115",
     "status": "completed"
    },
    "tags": []
   },
   "outputs": [
    {
     "ename": "KeyError",
     "evalue": "'CarName'",
     "output_type": "error",
     "traceback": [
      "\u001b[1;31m---------------------------------------------------------------------------\u001b[0m",
      "\u001b[1;31mKeyError\u001b[0m                                  Traceback (most recent call last)",
      "File \u001b[1;32mc:\\Users\\soumi\\AppData\\Local\\Programs\\Python\\Python311\\Lib\\site-packages\\pandas\\core\\indexes\\base.py:3790\u001b[0m, in \u001b[0;36mIndex.get_loc\u001b[1;34m(self, key)\u001b[0m\n\u001b[0;32m   3789\u001b[0m \u001b[39mtry\u001b[39;00m:\n\u001b[1;32m-> 3790\u001b[0m     \u001b[39mreturn\u001b[39;00m \u001b[39mself\u001b[39;49m\u001b[39m.\u001b[39;49m_engine\u001b[39m.\u001b[39;49mget_loc(casted_key)\n\u001b[0;32m   3791\u001b[0m \u001b[39mexcept\u001b[39;00m \u001b[39mKeyError\u001b[39;00m \u001b[39mas\u001b[39;00m err:\n",
      "File \u001b[1;32mindex.pyx:152\u001b[0m, in \u001b[0;36mpandas._libs.index.IndexEngine.get_loc\u001b[1;34m()\u001b[0m\n",
      "File \u001b[1;32mindex.pyx:181\u001b[0m, in \u001b[0;36mpandas._libs.index.IndexEngine.get_loc\u001b[1;34m()\u001b[0m\n",
      "File \u001b[1;32mpandas\\_libs\\hashtable_class_helper.pxi:7080\u001b[0m, in \u001b[0;36mpandas._libs.hashtable.PyObjectHashTable.get_item\u001b[1;34m()\u001b[0m\n",
      "File \u001b[1;32mpandas\\_libs\\hashtable_class_helper.pxi:7088\u001b[0m, in \u001b[0;36mpandas._libs.hashtable.PyObjectHashTable.get_item\u001b[1;34m()\u001b[0m\n",
      "\u001b[1;31mKeyError\u001b[0m: 'CarName'",
      "\nThe above exception was the direct cause of the following exception:\n",
      "\u001b[1;31mKeyError\u001b[0m                                  Traceback (most recent call last)",
      "\u001b[1;32md:\\VS code\\car_price_predictor\\eda-car-price-prediction-deployment-model.ipynb Cell 16\u001b[0m line \u001b[0;36m1\n\u001b[1;32m----> <a href='vscode-notebook-cell:/d%3A/VS%20code/car_price_predictor/eda-car-price-prediction-deployment-model.ipynb#X21sZmlsZQ%3D%3D?line=0'>1</a>\u001b[0m df[\u001b[39m'\u001b[39;49m\u001b[39mCarName\u001b[39;49m\u001b[39m'\u001b[39;49m]\u001b[39m.\u001b[39munique()\n",
      "File \u001b[1;32mc:\\Users\\soumi\\AppData\\Local\\Programs\\Python\\Python311\\Lib\\site-packages\\pandas\\core\\frame.py:3893\u001b[0m, in \u001b[0;36mDataFrame.__getitem__\u001b[1;34m(self, key)\u001b[0m\n\u001b[0;32m   3891\u001b[0m \u001b[39mif\u001b[39;00m \u001b[39mself\u001b[39m\u001b[39m.\u001b[39mcolumns\u001b[39m.\u001b[39mnlevels \u001b[39m>\u001b[39m \u001b[39m1\u001b[39m:\n\u001b[0;32m   3892\u001b[0m     \u001b[39mreturn\u001b[39;00m \u001b[39mself\u001b[39m\u001b[39m.\u001b[39m_getitem_multilevel(key)\n\u001b[1;32m-> 3893\u001b[0m indexer \u001b[39m=\u001b[39m \u001b[39mself\u001b[39;49m\u001b[39m.\u001b[39;49mcolumns\u001b[39m.\u001b[39;49mget_loc(key)\n\u001b[0;32m   3894\u001b[0m \u001b[39mif\u001b[39;00m is_integer(indexer):\n\u001b[0;32m   3895\u001b[0m     indexer \u001b[39m=\u001b[39m [indexer]\n",
      "File \u001b[1;32mc:\\Users\\soumi\\AppData\\Local\\Programs\\Python\\Python311\\Lib\\site-packages\\pandas\\core\\indexes\\base.py:3797\u001b[0m, in \u001b[0;36mIndex.get_loc\u001b[1;34m(self, key)\u001b[0m\n\u001b[0;32m   3792\u001b[0m     \u001b[39mif\u001b[39;00m \u001b[39misinstance\u001b[39m(casted_key, \u001b[39mslice\u001b[39m) \u001b[39mor\u001b[39;00m (\n\u001b[0;32m   3793\u001b[0m         \u001b[39misinstance\u001b[39m(casted_key, abc\u001b[39m.\u001b[39mIterable)\n\u001b[0;32m   3794\u001b[0m         \u001b[39mand\u001b[39;00m \u001b[39many\u001b[39m(\u001b[39misinstance\u001b[39m(x, \u001b[39mslice\u001b[39m) \u001b[39mfor\u001b[39;00m x \u001b[39min\u001b[39;00m casted_key)\n\u001b[0;32m   3795\u001b[0m     ):\n\u001b[0;32m   3796\u001b[0m         \u001b[39mraise\u001b[39;00m InvalidIndexError(key)\n\u001b[1;32m-> 3797\u001b[0m     \u001b[39mraise\u001b[39;00m \u001b[39mKeyError\u001b[39;00m(key) \u001b[39mfrom\u001b[39;00m \u001b[39merr\u001b[39;00m\n\u001b[0;32m   3798\u001b[0m \u001b[39mexcept\u001b[39;00m \u001b[39mTypeError\u001b[39;00m:\n\u001b[0;32m   3799\u001b[0m     \u001b[39m# If we have a listlike key, _check_indexing_error will raise\u001b[39;00m\n\u001b[0;32m   3800\u001b[0m     \u001b[39m#  InvalidIndexError. Otherwise we fall through and re-raise\u001b[39;00m\n\u001b[0;32m   3801\u001b[0m     \u001b[39m#  the TypeError.\u001b[39;00m\n\u001b[0;32m   3802\u001b[0m     \u001b[39mself\u001b[39m\u001b[39m.\u001b[39m_check_indexing_error(key)\n",
      "\u001b[1;31mKeyError\u001b[0m: 'CarName'"
     ]
    }
   ],
   "source": [
    "df['CarName'].unique()"
   ]
  },
  {
   "cell_type": "markdown",
   "id": "de044e39",
   "metadata": {
    "papermill": {
     "duration": 0.022879,
     "end_time": "2023-10-28T18:45:17.040045",
     "exception": false,
     "start_time": "2023-10-28T18:45:17.017166",
     "status": "completed"
    },
    "tags": []
   },
   "source": [
    "#### observation : as you can see , it has name of company and car model , i dont like it i just want to have company name"
   ]
  },
  {
   "cell_type": "code",
   "execution_count": null,
   "metadata": {},
   "outputs": [
    {
     "name": "stdout",
     "output_type": "stream",
     "text": [
      "Index(['name', 'company', 'year', 'Price', 'kms_driven', 'fuel_type'], dtype='object')\n"
     ]
    }
   ],
   "source": [
    "print(df.columns)\n"
   ]
  },
  {
   "cell_type": "code",
   "execution_count": null,
   "metadata": {},
   "outputs": [
    {
     "name": "stdout",
     "output_type": "stream",
     "text": [
      "                                     name   company  year          Price  \\\n",
      "0    Hyundai Santro Xing XO eRLX Euro III   Hyundai  2007         80,000   \n",
      "1                 Mahindra Jeep CL550 MDI  Mahindra  2006       4,25,000   \n",
      "2              Maruti Suzuki Alto 800 Vxi    Maruti  2018  Ask For Price   \n",
      "3  Hyundai Grand i10 Magna 1.2 Kappa VTVT   Hyundai  2014       3,25,000   \n",
      "4        Ford EcoSport Titanium 1.5L TDCi      Ford  2014       5,75,000   \n",
      "\n",
      "   kms_driven fuel_type  \n",
      "0  45,000 kms    Petrol  \n",
      "1      40 kms    Diesel  \n",
      "2  22,000 kms    Petrol  \n",
      "3  28,000 kms    Petrol  \n",
      "4  36,000 kms    Diesel  \n"
     ]
    }
   ],
   "source": [
    "print(df.head())\n",
    "\n"
   ]
  },
  {
   "cell_type": "code",
   "execution_count": null,
   "metadata": {},
   "outputs": [],
   "source": [
    "df.insert(1, 'Company', df['name'].str.split(' ').str[0])\n"
   ]
  },
  {
   "cell_type": "code",
   "execution_count": null,
   "id": "fe00d32b",
   "metadata": {
    "execution": {
     "iopub.execute_input": "2023-10-28T18:45:17.141708Z",
     "iopub.status.busy": "2023-10-28T18:45:17.141276Z",
     "iopub.status.idle": "2023-10-28T18:45:17.147857Z",
     "shell.execute_reply": "2023-10-28T18:45:17.146704Z"
    },
    "papermill": {
     "duration": 0.031915,
     "end_time": "2023-10-28T18:45:17.150271",
     "exception": false,
     "start_time": "2023-10-28T18:45:17.118356",
     "status": "completed"
    },
    "tags": []
   },
   "outputs": [],
   "source": [
    "df.drop(columns=['CarName'],inplace=True)"
   ]
  },
  {
   "cell_type": "code",
   "execution_count": null,
   "id": "af0abc20",
   "metadata": {
    "execution": {
     "iopub.execute_input": "2023-10-28T18:45:17.195439Z",
     "iopub.status.busy": "2023-10-28T18:45:17.194576Z",
     "iopub.status.idle": "2023-10-28T18:45:17.223438Z",
     "shell.execute_reply": "2023-10-28T18:45:17.222287Z"
    },
    "papermill": {
     "duration": 0.054794,
     "end_time": "2023-10-28T18:45:17.225893",
     "exception": false,
     "start_time": "2023-10-28T18:45:17.171099",
     "status": "completed"
    },
    "tags": []
   },
   "outputs": [
    {
     "data": {
      "text/html": [
       "<div>\n",
       "<style scoped>\n",
       "    .dataframe tbody tr th:only-of-type {\n",
       "        vertical-align: middle;\n",
       "    }\n",
       "\n",
       "    .dataframe tbody tr th {\n",
       "        vertical-align: top;\n",
       "    }\n",
       "\n",
       "    .dataframe thead th {\n",
       "        text-align: right;\n",
       "    }\n",
       "</style>\n",
       "<table border=\"1\" class=\"dataframe\">\n",
       "  <thead>\n",
       "    <tr style=\"text-align: right;\">\n",
       "      <th></th>\n",
       "      <th>car_ID</th>\n",
       "      <th>Company</th>\n",
       "      <th>symboling</th>\n",
       "      <th>fueltype</th>\n",
       "      <th>aspiration</th>\n",
       "      <th>doornumber</th>\n",
       "      <th>carbody</th>\n",
       "      <th>drivewheel</th>\n",
       "      <th>enginelocation</th>\n",
       "      <th>wheelbase</th>\n",
       "      <th>...</th>\n",
       "      <th>enginesize</th>\n",
       "      <th>fuelsystem</th>\n",
       "      <th>boreratio</th>\n",
       "      <th>stroke</th>\n",
       "      <th>compressionratio</th>\n",
       "      <th>horsepower</th>\n",
       "      <th>peakrpm</th>\n",
       "      <th>citympg</th>\n",
       "      <th>highwaympg</th>\n",
       "      <th>price</th>\n",
       "    </tr>\n",
       "  </thead>\n",
       "  <tbody>\n",
       "    <tr>\n",
       "      <th>0</th>\n",
       "      <td>1</td>\n",
       "      <td>alfa-romero</td>\n",
       "      <td>3</td>\n",
       "      <td>gas</td>\n",
       "      <td>std</td>\n",
       "      <td>two</td>\n",
       "      <td>convertible</td>\n",
       "      <td>rwd</td>\n",
       "      <td>front</td>\n",
       "      <td>88.6</td>\n",
       "      <td>...</td>\n",
       "      <td>130</td>\n",
       "      <td>mpfi</td>\n",
       "      <td>3.47</td>\n",
       "      <td>2.68</td>\n",
       "      <td>9.0</td>\n",
       "      <td>111</td>\n",
       "      <td>5000</td>\n",
       "      <td>21</td>\n",
       "      <td>27</td>\n",
       "      <td>13495.0</td>\n",
       "    </tr>\n",
       "    <tr>\n",
       "      <th>1</th>\n",
       "      <td>2</td>\n",
       "      <td>alfa-romero</td>\n",
       "      <td>3</td>\n",
       "      <td>gas</td>\n",
       "      <td>std</td>\n",
       "      <td>two</td>\n",
       "      <td>convertible</td>\n",
       "      <td>rwd</td>\n",
       "      <td>front</td>\n",
       "      <td>88.6</td>\n",
       "      <td>...</td>\n",
       "      <td>130</td>\n",
       "      <td>mpfi</td>\n",
       "      <td>3.47</td>\n",
       "      <td>2.68</td>\n",
       "      <td>9.0</td>\n",
       "      <td>111</td>\n",
       "      <td>5000</td>\n",
       "      <td>21</td>\n",
       "      <td>27</td>\n",
       "      <td>16500.0</td>\n",
       "    </tr>\n",
       "    <tr>\n",
       "      <th>2</th>\n",
       "      <td>3</td>\n",
       "      <td>alfa-romero</td>\n",
       "      <td>1</td>\n",
       "      <td>gas</td>\n",
       "      <td>std</td>\n",
       "      <td>two</td>\n",
       "      <td>hatchback</td>\n",
       "      <td>rwd</td>\n",
       "      <td>front</td>\n",
       "      <td>94.5</td>\n",
       "      <td>...</td>\n",
       "      <td>152</td>\n",
       "      <td>mpfi</td>\n",
       "      <td>2.68</td>\n",
       "      <td>3.47</td>\n",
       "      <td>9.0</td>\n",
       "      <td>154</td>\n",
       "      <td>5000</td>\n",
       "      <td>19</td>\n",
       "      <td>26</td>\n",
       "      <td>16500.0</td>\n",
       "    </tr>\n",
       "    <tr>\n",
       "      <th>3</th>\n",
       "      <td>4</td>\n",
       "      <td>audi</td>\n",
       "      <td>2</td>\n",
       "      <td>gas</td>\n",
       "      <td>std</td>\n",
       "      <td>four</td>\n",
       "      <td>sedan</td>\n",
       "      <td>fwd</td>\n",
       "      <td>front</td>\n",
       "      <td>99.8</td>\n",
       "      <td>...</td>\n",
       "      <td>109</td>\n",
       "      <td>mpfi</td>\n",
       "      <td>3.19</td>\n",
       "      <td>3.40</td>\n",
       "      <td>10.0</td>\n",
       "      <td>102</td>\n",
       "      <td>5500</td>\n",
       "      <td>24</td>\n",
       "      <td>30</td>\n",
       "      <td>13950.0</td>\n",
       "    </tr>\n",
       "    <tr>\n",
       "      <th>4</th>\n",
       "      <td>5</td>\n",
       "      <td>audi</td>\n",
       "      <td>2</td>\n",
       "      <td>gas</td>\n",
       "      <td>std</td>\n",
       "      <td>four</td>\n",
       "      <td>sedan</td>\n",
       "      <td>4wd</td>\n",
       "      <td>front</td>\n",
       "      <td>99.4</td>\n",
       "      <td>...</td>\n",
       "      <td>136</td>\n",
       "      <td>mpfi</td>\n",
       "      <td>3.19</td>\n",
       "      <td>3.40</td>\n",
       "      <td>8.0</td>\n",
       "      <td>115</td>\n",
       "      <td>5500</td>\n",
       "      <td>18</td>\n",
       "      <td>22</td>\n",
       "      <td>17450.0</td>\n",
       "    </tr>\n",
       "  </tbody>\n",
       "</table>\n",
       "<p>5 rows × 26 columns</p>\n",
       "</div>"
      ],
      "text/plain": [
       "   car_ID      Company  symboling fueltype aspiration doornumber      carbody  \\\n",
       "0       1  alfa-romero          3      gas        std        two  convertible   \n",
       "1       2  alfa-romero          3      gas        std        two  convertible   \n",
       "2       3  alfa-romero          1      gas        std        two    hatchback   \n",
       "3       4         audi          2      gas        std       four        sedan   \n",
       "4       5         audi          2      gas        std       four        sedan   \n",
       "\n",
       "  drivewheel enginelocation  wheelbase  ...  enginesize  fuelsystem  \\\n",
       "0        rwd          front       88.6  ...         130        mpfi   \n",
       "1        rwd          front       88.6  ...         130        mpfi   \n",
       "2        rwd          front       94.5  ...         152        mpfi   \n",
       "3        fwd          front       99.8  ...         109        mpfi   \n",
       "4        4wd          front       99.4  ...         136        mpfi   \n",
       "\n",
       "   boreratio  stroke compressionratio horsepower  peakrpm citympg  highwaympg  \\\n",
       "0       3.47    2.68              9.0        111     5000      21          27   \n",
       "1       3.47    2.68              9.0        111     5000      21          27   \n",
       "2       2.68    3.47              9.0        154     5000      19          26   \n",
       "3       3.19    3.40             10.0        102     5500      24          30   \n",
       "4       3.19    3.40              8.0        115     5500      18          22   \n",
       "\n",
       "     price  \n",
       "0  13495.0  \n",
       "1  16500.0  \n",
       "2  16500.0  \n",
       "3  13950.0  \n",
       "4  17450.0  \n",
       "\n",
       "[5 rows x 26 columns]"
      ]
     },
     "execution_count": 15,
     "metadata": {},
     "output_type": "execute_result"
    }
   ],
   "source": [
    "df.head()"
   ]
  },
  {
   "cell_type": "code",
   "execution_count": null,
   "id": "980621a1",
   "metadata": {
    "execution": {
     "iopub.execute_input": "2023-10-28T18:45:17.270473Z",
     "iopub.status.busy": "2023-10-28T18:45:17.269797Z",
     "iopub.status.idle": "2023-10-28T18:45:17.278055Z",
     "shell.execute_reply": "2023-10-28T18:45:17.276661Z"
    },
    "papermill": {
     "duration": 0.033719,
     "end_time": "2023-10-28T18:45:17.280822",
     "exception": false,
     "start_time": "2023-10-28T18:45:17.247103",
     "status": "completed"
    },
    "scrolled": true,
    "tags": []
   },
   "outputs": [
    {
     "data": {
      "text/plain": [
       "array(['alfa-romero', 'audi', 'bmw', 'chevrolet', 'dodge', 'honda',\n",
       "       'isuzu', 'jaguar', 'maxda', 'mazda', 'buick', 'mercury',\n",
       "       'mitsubishi', 'Nissan', 'nissan', 'peugeot', 'plymouth', 'porsche',\n",
       "       'porcshce', 'renault', 'saab', 'subaru', 'toyota', 'toyouta',\n",
       "       'vokswagen', 'volkswagen', 'vw', 'volvo'], dtype=object)"
      ]
     },
     "execution_count": 16,
     "metadata": {},
     "output_type": "execute_result"
    }
   ],
   "source": [
    "df['Company'].unique()"
   ]
  },
  {
   "cell_type": "code",
   "execution_count": null,
   "id": "7ec30d8e",
   "metadata": {
    "execution": {
     "iopub.execute_input": "2023-10-28T18:45:17.325709Z",
     "iopub.status.busy": "2023-10-28T18:45:17.325281Z",
     "iopub.status.idle": "2023-10-28T18:45:17.333943Z",
     "shell.execute_reply": "2023-10-28T18:45:17.332540Z"
    },
    "papermill": {
     "duration": 0.034478,
     "end_time": "2023-10-28T18:45:17.336607",
     "exception": false,
     "start_time": "2023-10-28T18:45:17.302129",
     "status": "completed"
    },
    "tags": []
   },
   "outputs": [],
   "source": [
    "# let's correct the company names\n",
    "company_name_mapping = {\n",
    "    'maxda': 'mazda',\n",
    "    'Nissan': 'nissan',\n",
    "    'porcshce': 'porsche',\n",
    "    'toyouta': 'toyota',\n",
    "    'vokswagen': 'volkswagen',\n",
    "    'vw': 'volkswagen'\n",
    "}\n",
    "\n",
    "df['Company'].replace(company_name_mapping, inplace=True)"
   ]
  },
  {
   "cell_type": "code",
   "execution_count": null,
   "id": "23e3419f",
   "metadata": {
    "execution": {
     "iopub.execute_input": "2023-10-28T18:45:17.382728Z",
     "iopub.status.busy": "2023-10-28T18:45:17.382286Z",
     "iopub.status.idle": "2023-10-28T18:45:17.389667Z",
     "shell.execute_reply": "2023-10-28T18:45:17.388710Z"
    },
    "papermill": {
     "duration": 0.032932,
     "end_time": "2023-10-28T18:45:17.392054",
     "exception": false,
     "start_time": "2023-10-28T18:45:17.359122",
     "status": "completed"
    },
    "tags": []
   },
   "outputs": [
    {
     "data": {
      "text/plain": [
       "array(['alfa-romero', 'audi', 'bmw', 'chevrolet', 'dodge', 'honda',\n",
       "       'isuzu', 'jaguar', 'mazda', 'buick', 'mercury', 'mitsubishi',\n",
       "       'nissan', 'peugeot', 'plymouth', 'porsche', 'renault', 'saab',\n",
       "       'subaru', 'toyota', 'volkswagen', 'volvo'], dtype=object)"
      ]
     },
     "execution_count": 18,
     "metadata": {},
     "output_type": "execute_result"
    }
   ],
   "source": [
    "df['Company'].unique()"
   ]
  },
  {
   "cell_type": "code",
   "execution_count": null,
   "id": "0316fdea",
   "metadata": {
    "execution": {
     "iopub.execute_input": "2023-10-28T18:45:17.438300Z",
     "iopub.status.busy": "2023-10-28T18:45:17.437850Z",
     "iopub.status.idle": "2023-10-28T18:45:17.442951Z",
     "shell.execute_reply": "2023-10-28T18:45:17.441709Z"
    },
    "papermill": {
     "duration": 0.032367,
     "end_time": "2023-10-28T18:45:17.446563",
     "exception": false,
     "start_time": "2023-10-28T18:45:17.414196",
     "status": "completed"
    },
    "tags": []
   },
   "outputs": [],
   "source": [
    "# ok :)"
   ]
  },
  {
   "cell_type": "code",
   "execution_count": null,
   "id": "d5004f09",
   "metadata": {
    "execution": {
     "iopub.execute_input": "2023-10-28T18:45:17.494661Z",
     "iopub.status.busy": "2023-10-28T18:45:17.494235Z",
     "iopub.status.idle": "2023-10-28T18:45:17.500348Z",
     "shell.execute_reply": "2023-10-28T18:45:17.499441Z"
    },
    "papermill": {
     "duration": 0.03438,
     "end_time": "2023-10-28T18:45:17.502915",
     "exception": false,
     "start_time": "2023-10-28T18:45:17.468535",
     "status": "completed"
    },
    "tags": []
   },
   "outputs": [],
   "source": [
    "# car_ID is not useful column\n",
    "df.drop(columns=['car_ID'],inplace=True)"
   ]
  },
  {
   "cell_type": "markdown",
   "id": "4ee9ee86",
   "metadata": {
    "papermill": {
     "duration": 0.021742,
     "end_time": "2023-10-28T18:45:17.546956",
     "exception": false,
     "start_time": "2023-10-28T18:45:17.525214",
     "status": "completed"
    },
    "tags": []
   },
   "source": [
    "# Time to Visualization"
   ]
  },
  {
   "cell_type": "markdown",
   "id": "82a404cb",
   "metadata": {
    "papermill": {
     "duration": 0.02342,
     "end_time": "2023-10-28T18:45:17.592803",
     "exception": false,
     "start_time": "2023-10-28T18:45:17.569383",
     "status": "completed"
    },
    "tags": []
   },
   "source": [
    "#### 1 : Average Car Prices by Company"
   ]
  },
  {
   "cell_type": "code",
   "execution_count": 35,
   "metadata": {},
   "outputs": [
    {
     "name": "stdout",
     "output_type": "stream",
     "text": [
      "                                     name   company  year          Price  \\\n",
      "0    Hyundai Santro Xing XO eRLX Euro III   Hyundai  2007         80,000   \n",
      "1                 Mahindra Jeep CL550 MDI  Mahindra  2006       4,25,000   \n",
      "2              Maruti Suzuki Alto 800 Vxi    Maruti  2018  Ask For Price   \n",
      "3  Hyundai Grand i10 Magna 1.2 Kappa VTVT   Hyundai  2014       3,25,000   \n",
      "4        Ford EcoSport Titanium 1.5L TDCi      Ford  2014       5,75,000   \n",
      "\n",
      "   kms_driven fuel_type  \n",
      "0  45,000 kms    Petrol  \n",
      "1      40 kms    Diesel  \n",
      "2  22,000 kms    Petrol  \n",
      "3  28,000 kms    Petrol  \n",
      "4  36,000 kms    Diesel  \n"
     ]
    }
   ],
   "source": [
    "print(df.head())\n"
   ]
  },
  {
   "cell_type": "code",
   "execution_count": 36,
   "metadata": {},
   "outputs": [
    {
     "name": "stdout",
     "output_type": "stream",
     "text": [
      "Index(['name', 'company', 'year', 'Price', 'kms_driven', 'fuel_type'], dtype='object')\n"
     ]
    }
   ],
   "source": [
    "print(df.columns)\n"
   ]
  },
  {
   "cell_type": "code",
   "execution_count": 37,
   "metadata": {},
   "outputs": [
    {
     "ename": "KeyError",
     "evalue": "'Company'",
     "output_type": "error",
     "traceback": [
      "\u001b[1;31m---------------------------------------------------------------------------\u001b[0m",
      "\u001b[1;31mKeyError\u001b[0m                                  Traceback (most recent call last)",
      "\u001b[1;32md:\\VS code\\car_price_predictor\\eda-car-price-prediction-deployment-model.ipynb Cell 32\u001b[0m line \u001b[0;36m2\n\u001b[0;32m      <a href='vscode-notebook-cell:/d%3A/VS%20code/car_price_predictor/eda-car-price-prediction-deployment-model.ipynb#Y132sZmlsZQ%3D%3D?line=0'>1</a>\u001b[0m \u001b[39m# Example assuming the column name is 'Price' instead of 'price'\u001b[39;00m\n\u001b[1;32m----> <a href='vscode-notebook-cell:/d%3A/VS%20code/car_price_predictor/eda-car-price-prediction-deployment-model.ipynb#Y132sZmlsZQ%3D%3D?line=1'>2</a>\u001b[0m company_prices \u001b[39m=\u001b[39m df\u001b[39m.\u001b[39;49mgroupby(\u001b[39m\"\u001b[39;49m\u001b[39mCompany\u001b[39;49m\u001b[39m\"\u001b[39;49m)[\u001b[39m\"\u001b[39m\u001b[39mPrice\u001b[39m\u001b[39m\"\u001b[39m]\u001b[39m.\u001b[39mmean()\u001b[39m.\u001b[39mreset_index()\n",
      "File \u001b[1;32mc:\\Users\\soumi\\AppData\\Local\\Programs\\Python\\Python311\\Lib\\site-packages\\pandas\\core\\frame.py:8869\u001b[0m, in \u001b[0;36mDataFrame.groupby\u001b[1;34m(self, by, axis, level, as_index, sort, group_keys, observed, dropna)\u001b[0m\n\u001b[0;32m   8866\u001b[0m \u001b[39mif\u001b[39;00m level \u001b[39mis\u001b[39;00m \u001b[39mNone\u001b[39;00m \u001b[39mand\u001b[39;00m by \u001b[39mis\u001b[39;00m \u001b[39mNone\u001b[39;00m:\n\u001b[0;32m   8867\u001b[0m     \u001b[39mraise\u001b[39;00m \u001b[39mTypeError\u001b[39;00m(\u001b[39m\"\u001b[39m\u001b[39mYou have to supply one of \u001b[39m\u001b[39m'\u001b[39m\u001b[39mby\u001b[39m\u001b[39m'\u001b[39m\u001b[39m and \u001b[39m\u001b[39m'\u001b[39m\u001b[39mlevel\u001b[39m\u001b[39m'\u001b[39m\u001b[39m\"\u001b[39m)\n\u001b[1;32m-> 8869\u001b[0m \u001b[39mreturn\u001b[39;00m DataFrameGroupBy(\n\u001b[0;32m   8870\u001b[0m     obj\u001b[39m=\u001b[39;49m\u001b[39mself\u001b[39;49m,\n\u001b[0;32m   8871\u001b[0m     keys\u001b[39m=\u001b[39;49mby,\n\u001b[0;32m   8872\u001b[0m     axis\u001b[39m=\u001b[39;49maxis,\n\u001b[0;32m   8873\u001b[0m     level\u001b[39m=\u001b[39;49mlevel,\n\u001b[0;32m   8874\u001b[0m     as_index\u001b[39m=\u001b[39;49mas_index,\n\u001b[0;32m   8875\u001b[0m     sort\u001b[39m=\u001b[39;49msort,\n\u001b[0;32m   8876\u001b[0m     group_keys\u001b[39m=\u001b[39;49mgroup_keys,\n\u001b[0;32m   8877\u001b[0m     observed\u001b[39m=\u001b[39;49mobserved,\n\u001b[0;32m   8878\u001b[0m     dropna\u001b[39m=\u001b[39;49mdropna,\n\u001b[0;32m   8879\u001b[0m )\n",
      "File \u001b[1;32mc:\\Users\\soumi\\AppData\\Local\\Programs\\Python\\Python311\\Lib\\site-packages\\pandas\\core\\groupby\\groupby.py:1278\u001b[0m, in \u001b[0;36mGroupBy.__init__\u001b[1;34m(self, obj, keys, axis, level, grouper, exclusions, selection, as_index, sort, group_keys, observed, dropna)\u001b[0m\n\u001b[0;32m   1275\u001b[0m \u001b[39mself\u001b[39m\u001b[39m.\u001b[39mdropna \u001b[39m=\u001b[39m dropna\n\u001b[0;32m   1277\u001b[0m \u001b[39mif\u001b[39;00m grouper \u001b[39mis\u001b[39;00m \u001b[39mNone\u001b[39;00m:\n\u001b[1;32m-> 1278\u001b[0m     grouper, exclusions, obj \u001b[39m=\u001b[39m get_grouper(\n\u001b[0;32m   1279\u001b[0m         obj,\n\u001b[0;32m   1280\u001b[0m         keys,\n\u001b[0;32m   1281\u001b[0m         axis\u001b[39m=\u001b[39;49maxis,\n\u001b[0;32m   1282\u001b[0m         level\u001b[39m=\u001b[39;49mlevel,\n\u001b[0;32m   1283\u001b[0m         sort\u001b[39m=\u001b[39;49msort,\n\u001b[0;32m   1284\u001b[0m         observed\u001b[39m=\u001b[39;49m\u001b[39mFalse\u001b[39;49;00m \u001b[39mif\u001b[39;49;00m observed \u001b[39mis\u001b[39;49;00m lib\u001b[39m.\u001b[39;49mno_default \u001b[39melse\u001b[39;49;00m observed,\n\u001b[0;32m   1285\u001b[0m         dropna\u001b[39m=\u001b[39;49m\u001b[39mself\u001b[39;49m\u001b[39m.\u001b[39;49mdropna,\n\u001b[0;32m   1286\u001b[0m     )\n\u001b[0;32m   1288\u001b[0m \u001b[39mif\u001b[39;00m observed \u001b[39mis\u001b[39;00m lib\u001b[39m.\u001b[39mno_default:\n\u001b[0;32m   1289\u001b[0m     \u001b[39mif\u001b[39;00m \u001b[39many\u001b[39m(ping\u001b[39m.\u001b[39m_passed_categorical \u001b[39mfor\u001b[39;00m ping \u001b[39min\u001b[39;00m grouper\u001b[39m.\u001b[39mgroupings):\n",
      "File \u001b[1;32mc:\\Users\\soumi\\AppData\\Local\\Programs\\Python\\Python311\\Lib\\site-packages\\pandas\\core\\groupby\\grouper.py:1009\u001b[0m, in \u001b[0;36mget_grouper\u001b[1;34m(obj, key, axis, level, sort, observed, validate, dropna)\u001b[0m\n\u001b[0;32m   1007\u001b[0m         in_axis, level, gpr \u001b[39m=\u001b[39m \u001b[39mFalse\u001b[39;00m, gpr, \u001b[39mNone\u001b[39;00m\n\u001b[0;32m   1008\u001b[0m     \u001b[39melse\u001b[39;00m:\n\u001b[1;32m-> 1009\u001b[0m         \u001b[39mraise\u001b[39;00m \u001b[39mKeyError\u001b[39;00m(gpr)\n\u001b[0;32m   1010\u001b[0m \u001b[39melif\u001b[39;00m \u001b[39misinstance\u001b[39m(gpr, Grouper) \u001b[39mand\u001b[39;00m gpr\u001b[39m.\u001b[39mkey \u001b[39mis\u001b[39;00m \u001b[39mnot\u001b[39;00m \u001b[39mNone\u001b[39;00m:\n\u001b[0;32m   1011\u001b[0m     \u001b[39m# Add key to exclusions\u001b[39;00m\n\u001b[0;32m   1012\u001b[0m     exclusions\u001b[39m.\u001b[39madd(gpr\u001b[39m.\u001b[39mkey)\n",
      "\u001b[1;31mKeyError\u001b[0m: 'Company'"
     ]
    }
   ],
   "source": [
    "# Example assuming the column name is 'Price' instead of 'price'\n",
    "company_prices = df.groupby(\"Company\")[\"Price\"].mean().reset_index()\n"
   ]
  },
  {
   "cell_type": "markdown",
   "id": "ad81a8ba",
   "metadata": {
    "papermill": {
     "duration": 0.025965,
     "end_time": "2023-10-28T18:45:20.041301",
     "exception": false,
     "start_time": "2023-10-28T18:45:20.015336",
     "status": "completed"
    },
    "tags": []
   },
   "source": [
    "#### 2 : Correlation Heatmap"
   ]
  },
  {
   "cell_type": "code",
   "execution_count": 38,
   "id": "f8d4ee6d",
   "metadata": {
    "execution": {
     "iopub.execute_input": "2023-10-28T18:45:20.092304Z",
     "iopub.status.busy": "2023-10-28T18:45:20.091667Z",
     "iopub.status.idle": "2023-10-28T18:45:21.515913Z",
     "shell.execute_reply": "2023-10-28T18:45:21.514581Z"
    },
    "papermill": {
     "duration": 1.453578,
     "end_time": "2023-10-28T18:45:21.518766",
     "exception": false,
     "start_time": "2023-10-28T18:45:20.065188",
     "status": "completed"
    },
    "tags": []
   },
   "outputs": [
    {
     "ename": "ValueError",
     "evalue": "zero-size array to reduction operation fmin which has no identity",
     "output_type": "error",
     "traceback": [
      "\u001b[1;31m---------------------------------------------------------------------------\u001b[0m",
      "\u001b[1;31mValueError\u001b[0m                                Traceback (most recent call last)",
      "\u001b[1;32md:\\VS code\\car_price_predictor\\eda-car-price-prediction-deployment-model.ipynb Cell 34\u001b[0m line \u001b[0;36m4\n\u001b[0;32m      <a href='vscode-notebook-cell:/d%3A/VS%20code/car_price_predictor/eda-car-price-prediction-deployment-model.ipynb#X41sZmlsZQ%3D%3D?line=0'>1</a>\u001b[0m correlation_matrix \u001b[39m=\u001b[39m df\u001b[39m.\u001b[39mcorr(numeric_only\u001b[39m=\u001b[39m\u001b[39mTrue\u001b[39;00m) \n\u001b[0;32m      <a href='vscode-notebook-cell:/d%3A/VS%20code/car_price_predictor/eda-car-price-prediction-deployment-model.ipynb#X41sZmlsZQ%3D%3D?line=2'>3</a>\u001b[0m plt\u001b[39m.\u001b[39mfigure(figsize\u001b[39m=\u001b[39m(\u001b[39m12\u001b[39m, \u001b[39m10\u001b[39m))\n\u001b[1;32m----> <a href='vscode-notebook-cell:/d%3A/VS%20code/car_price_predictor/eda-car-price-prediction-deployment-model.ipynb#X41sZmlsZQ%3D%3D?line=3'>4</a>\u001b[0m sns\u001b[39m.\u001b[39;49mheatmap(correlation_matrix, annot\u001b[39m=\u001b[39;49m\u001b[39mTrue\u001b[39;49;00m, cmap\u001b[39m=\u001b[39;49m\u001b[39m\"\u001b[39;49m\u001b[39mcoolwarm\u001b[39;49m\u001b[39m\"\u001b[39;49m, fmt\u001b[39m=\u001b[39;49m\u001b[39m\"\u001b[39;49m\u001b[39m.2f\u001b[39;49m\u001b[39m\"\u001b[39;49m, linewidths\u001b[39m=\u001b[39;49m\u001b[39m0.5\u001b[39;49m)\n\u001b[0;32m      <a href='vscode-notebook-cell:/d%3A/VS%20code/car_price_predictor/eda-car-price-prediction-deployment-model.ipynb#X41sZmlsZQ%3D%3D?line=4'>5</a>\u001b[0m plt\u001b[39m.\u001b[39mtitle(\u001b[39m\"\u001b[39m\u001b[39mCorrelation Heatmap\u001b[39m\u001b[39m\"\u001b[39m)\n\u001b[0;32m      <a href='vscode-notebook-cell:/d%3A/VS%20code/car_price_predictor/eda-car-price-prediction-deployment-model.ipynb#X41sZmlsZQ%3D%3D?line=5'>6</a>\u001b[0m plt\u001b[39m.\u001b[39mshow()\n",
      "File \u001b[1;32mc:\\Users\\soumi\\AppData\\Local\\Programs\\Python\\Python311\\Lib\\site-packages\\seaborn\\matrix.py:446\u001b[0m, in \u001b[0;36mheatmap\u001b[1;34m(data, vmin, vmax, cmap, center, robust, annot, fmt, annot_kws, linewidths, linecolor, cbar, cbar_kws, cbar_ax, square, xticklabels, yticklabels, mask, ax, **kwargs)\u001b[0m\n\u001b[0;32m    365\u001b[0m \u001b[39m\u001b[39m\u001b[39m\"\"\"Plot rectangular data as a color-encoded matrix.\u001b[39;00m\n\u001b[0;32m    366\u001b[0m \n\u001b[0;32m    367\u001b[0m \u001b[39mThis is an Axes-level function and will draw the heatmap into the\u001b[39;00m\n\u001b[1;32m   (...)\u001b[0m\n\u001b[0;32m    443\u001b[0m \n\u001b[0;32m    444\u001b[0m \u001b[39m\"\"\"\u001b[39;00m\n\u001b[0;32m    445\u001b[0m \u001b[39m# Initialize the plotter object\u001b[39;00m\n\u001b[1;32m--> 446\u001b[0m plotter \u001b[39m=\u001b[39m _HeatMapper(data, vmin, vmax, cmap, center, robust, annot, fmt,\n\u001b[0;32m    447\u001b[0m                       annot_kws, cbar, cbar_kws, xticklabels,\n\u001b[0;32m    448\u001b[0m                       yticklabels, mask)\n\u001b[0;32m    450\u001b[0m \u001b[39m# Add the pcolormesh kwargs here\u001b[39;00m\n\u001b[0;32m    451\u001b[0m kwargs[\u001b[39m\"\u001b[39m\u001b[39mlinewidths\u001b[39m\u001b[39m\"\u001b[39m] \u001b[39m=\u001b[39m linewidths\n",
      "File \u001b[1;32mc:\\Users\\soumi\\AppData\\Local\\Programs\\Python\\Python311\\Lib\\site-packages\\seaborn\\matrix.py:163\u001b[0m, in \u001b[0;36m_HeatMapper.__init__\u001b[1;34m(self, data, vmin, vmax, cmap, center, robust, annot, fmt, annot_kws, cbar, cbar_kws, xticklabels, yticklabels, mask)\u001b[0m\n\u001b[0;32m    160\u001b[0m \u001b[39mself\u001b[39m\u001b[39m.\u001b[39mylabel \u001b[39m=\u001b[39m ylabel \u001b[39mif\u001b[39;00m ylabel \u001b[39mis\u001b[39;00m \u001b[39mnot\u001b[39;00m \u001b[39mNone\u001b[39;00m \u001b[39melse\u001b[39;00m \u001b[39m\"\u001b[39m\u001b[39m\"\u001b[39m\n\u001b[0;32m    162\u001b[0m \u001b[39m# Determine good default values for the colormapping\u001b[39;00m\n\u001b[1;32m--> 163\u001b[0m \u001b[39mself\u001b[39;49m\u001b[39m.\u001b[39;49m_determine_cmap_params(plot_data, vmin, vmax,\n\u001b[0;32m    164\u001b[0m                             cmap, center, robust)\n\u001b[0;32m    166\u001b[0m \u001b[39m# Sort out the annotations\u001b[39;00m\n\u001b[0;32m    167\u001b[0m \u001b[39mif\u001b[39;00m annot \u001b[39mis\u001b[39;00m \u001b[39mNone\u001b[39;00m \u001b[39mor\u001b[39;00m annot \u001b[39mis\u001b[39;00m \u001b[39mFalse\u001b[39;00m:\n",
      "File \u001b[1;32mc:\\Users\\soumi\\AppData\\Local\\Programs\\Python\\Python311\\Lib\\site-packages\\seaborn\\matrix.py:202\u001b[0m, in \u001b[0;36m_HeatMapper._determine_cmap_params\u001b[1;34m(self, plot_data, vmin, vmax, cmap, center, robust)\u001b[0m\n\u001b[0;32m    200\u001b[0m         vmin \u001b[39m=\u001b[39m np\u001b[39m.\u001b[39mnanpercentile(calc_data, \u001b[39m2\u001b[39m)\n\u001b[0;32m    201\u001b[0m     \u001b[39melse\u001b[39;00m:\n\u001b[1;32m--> 202\u001b[0m         vmin \u001b[39m=\u001b[39m np\u001b[39m.\u001b[39;49mnanmin(calc_data)\n\u001b[0;32m    203\u001b[0m \u001b[39mif\u001b[39;00m vmax \u001b[39mis\u001b[39;00m \u001b[39mNone\u001b[39;00m:\n\u001b[0;32m    204\u001b[0m     \u001b[39mif\u001b[39;00m robust:\n",
      "File \u001b[1;32mc:\\Users\\soumi\\AppData\\Local\\Programs\\Python\\Python311\\Lib\\site-packages\\numpy\\lib\\nanfunctions.py:343\u001b[0m, in \u001b[0;36mnanmin\u001b[1;34m(a, axis, out, keepdims, initial, where)\u001b[0m\n\u001b[0;32m    338\u001b[0m     kwargs[\u001b[39m'\u001b[39m\u001b[39mwhere\u001b[39m\u001b[39m'\u001b[39m] \u001b[39m=\u001b[39m where\n\u001b[0;32m    340\u001b[0m \u001b[39mif\u001b[39;00m \u001b[39mtype\u001b[39m(a) \u001b[39mis\u001b[39;00m np\u001b[39m.\u001b[39mndarray \u001b[39mand\u001b[39;00m a\u001b[39m.\u001b[39mdtype \u001b[39m!=\u001b[39m np\u001b[39m.\u001b[39mobject_:\n\u001b[0;32m    341\u001b[0m     \u001b[39m# Fast, but not safe for subclasses of ndarray, or object arrays,\u001b[39;00m\n\u001b[0;32m    342\u001b[0m     \u001b[39m# which do not implement isnan (gh-9009), or fmin correctly (gh-8975)\u001b[39;00m\n\u001b[1;32m--> 343\u001b[0m     res \u001b[39m=\u001b[39m np\u001b[39m.\u001b[39;49mfmin\u001b[39m.\u001b[39;49mreduce(a, axis\u001b[39m=\u001b[39;49maxis, out\u001b[39m=\u001b[39;49mout, \u001b[39m*\u001b[39;49m\u001b[39m*\u001b[39;49mkwargs)\n\u001b[0;32m    344\u001b[0m     \u001b[39mif\u001b[39;00m np\u001b[39m.\u001b[39misnan(res)\u001b[39m.\u001b[39many():\n\u001b[0;32m    345\u001b[0m         warnings\u001b[39m.\u001b[39mwarn(\u001b[39m\"\u001b[39m\u001b[39mAll-NaN slice encountered\u001b[39m\u001b[39m\"\u001b[39m, \u001b[39mRuntimeWarning\u001b[39;00m,\n\u001b[0;32m    346\u001b[0m                       stacklevel\u001b[39m=\u001b[39m\u001b[39m2\u001b[39m)\n",
      "\u001b[1;31mValueError\u001b[0m: zero-size array to reduction operation fmin which has no identity"
     ]
    },
    {
     "data": {
      "text/plain": [
       "<Figure size 1200x1000 with 0 Axes>"
      ]
     },
     "metadata": {},
     "output_type": "display_data"
    }
   ],
   "source": [
    "correlation_matrix = df.corr(numeric_only=True) \n",
    "\n",
    "plt.figure(figsize=(12, 10))\n",
    "sns.heatmap(correlation_matrix, annot=True, cmap=\"coolwarm\", fmt=\".2f\", linewidths=0.5)\n",
    "plt.title(\"Correlation Heatmap\")\n",
    "plt.show()"
   ]
  },
  {
   "cell_type": "code",
   "execution_count": null,
   "id": "79f2c35a",
   "metadata": {
    "execution": {
     "iopub.execute_input": "2023-10-28T18:45:21.577196Z",
     "iopub.status.busy": "2023-10-28T18:45:21.576760Z",
     "iopub.status.idle": "2023-10-28T18:45:21.589438Z",
     "shell.execute_reply": "2023-10-28T18:45:21.588188Z"
    },
    "papermill": {
     "duration": 0.046698,
     "end_time": "2023-10-28T18:45:21.592117",
     "exception": false,
     "start_time": "2023-10-28T18:45:21.545419",
     "status": "completed"
    },
    "tags": []
   },
   "outputs": [
    {
     "data": {
      "text/plain": [
       "0      168.8\n",
       "1      168.8\n",
       "2      171.2\n",
       "3      176.6\n",
       "4      176.6\n",
       "       ...  \n",
       "200    188.8\n",
       "201    188.8\n",
       "202    188.8\n",
       "203    188.8\n",
       "204    188.8\n",
       "Name: carlength, Length: 205, dtype: float64"
      ]
     },
     "execution_count": 23,
     "metadata": {},
     "output_type": "execute_result"
    }
   ],
   "source": [
    "df['carlength']"
   ]
  },
  {
   "cell_type": "markdown",
   "id": "47de879d",
   "metadata": {
    "papermill": {
     "duration": 0.025814,
     "end_time": "2023-10-28T18:45:21.646634",
     "exception": false,
     "start_time": "2023-10-28T18:45:21.620820",
     "status": "completed"
    },
    "tags": []
   },
   "source": [
    "#### 3 : Price VS Categorical columns"
   ]
  },
  {
   "cell_type": "code",
   "execution_count": null,
   "id": "b0531b51",
   "metadata": {
    "execution": {
     "iopub.execute_input": "2023-10-28T18:45:21.701521Z",
     "iopub.status.busy": "2023-10-28T18:45:21.700581Z",
     "iopub.status.idle": "2023-10-28T18:45:24.925586Z",
     "shell.execute_reply": "2023-10-28T18:45:24.924230Z"
    },
    "papermill": {
     "duration": 3.257059,
     "end_time": "2023-10-28T18:45:24.929914",
     "exception": false,
     "start_time": "2023-10-28T18:45:21.672855",
     "status": "completed"
    },
    "tags": []
   },
   "outputs": [
    {
     "data": {
      "image/png": "[encoded data removed]",
      "text/plain": [
       "<Figure size 5400x600 with 9 Axes>"
      ]
     },
     "metadata": {},
     "output_type": "display_data"
    }
   ],
   "source": [
    "# Select the categorical columns we want to compare with \"price\" \n",
    "categorical_columns = [\"fueltype\", \"aspiration\", \"doornumber\", \"carbody\", \"drivewheel\", \"enginelocation\", \"enginetype\", \"cylindernumber\", \"fuelsystem\"]\n",
    "\n",
    "num_cols = len(categorical_columns)\n",
    "fig, axes = plt.subplots(1, num_cols, figsize=(6 * num_cols, 6))\n",
    "\n",
    "for i, col in enumerate(categorical_columns):\n",
    "    sns.stripplot(x=col, y=\"price\", data=df, ax=axes[i], size=4) \n",
    "    axes[i].set_title(f\"Price vs {col}\")\n",
    "    axes[i].set_xlabel(col)\n",
    "    axes[i].set_ylabel(\"Price\")\n",
    "\n",
    "plt.tight_layout()\n",
    "plt.show()\n"
   ]
  },
  {
   "cell_type": "markdown",
   "id": "0de03bee",
   "metadata": {
    "papermill": {
     "duration": 0.032064,
     "end_time": "2023-10-28T18:45:24.992033",
     "exception": false,
     "start_time": "2023-10-28T18:45:24.959969",
     "status": "completed"
    },
    "tags": []
   },
   "source": [
    "###  From the plots above, we can see the distribution of the parameters and their effect on the price ( I think this plot is wonderful )"
   ]
  },
  {
   "cell_type": "markdown",
   "id": "b045ce5d",
   "metadata": {
    "papermill": {
     "duration": 0.028862,
     "end_time": "2023-10-28T18:45:25.050428",
     "exception": false,
     "start_time": "2023-10-28T18:45:25.021566",
     "status": "completed"
    },
    "tags": []
   },
   "source": [
    "#### 4 : Price VS Numerical columns"
   ]
  },
  {
   "cell_type": "code",
   "execution_count": null,
   "id": "4a7604dd",
   "metadata": {
    "execution": {
     "iopub.execute_input": "2023-10-28T18:45:25.115051Z",
     "iopub.status.busy": "2023-10-28T18:45:25.114417Z",
     "iopub.status.idle": "2023-10-28T18:45:27.812845Z",
     "shell.execute_reply": "2023-10-28T18:45:27.811798Z"
    },
    "papermill": {
     "duration": 2.73726,
     "end_time": "2023-10-28T18:45:27.818481",
     "exception": false,
     "start_time": "2023-10-28T18:45:25.081221",
     "status": "completed"
    },
    "tags": []
   },
   "outputs": [
    {
     "data": {
      "image/png": "[encoded data removed]",
      "text/plain": [
       "<Figure size 1600x800 with 8 Axes>"
      ]
     },
     "metadata": {},
     "output_type": "display_data"
    }
   ],
   "source": [
    "# Select the numerical columns we want to compare with \"price\" \n",
    "numerical_columns = [\"wheelbase\", \"carlength\", \"carwidth\", \"curbweight\", \"enginesize\", \"horsepower\", \"citympg\", \"highwaympg\"]\n",
    "\n",
    "sns.set_palette(\"cool\")\n",
    "\n",
    "fig, axes = plt.subplots(2, 4, figsize=(16, 8))\n",
    "axes = axes.flatten()\n",
    "\n",
    "for i, col in enumerate(numerical_columns):\n",
    "    sns.scatterplot(data=df, x=col, y=\"price\", ax=axes[i], alpha=0.5, color=\"blue\")\n",
    "    axes[i].set_title(f\"{col} vs Price\", fontsize=12)\n",
    "    axes[i].set_xlabel(col, fontsize=10)\n",
    "    axes[i].set_ylabel(\"Price\", fontsize=10)\n",
    "    axes[i].tick_params(axis=\"both\", labelsize=8)\n",
    "\n",
    "plt.tight_layout()\n",
    "plt.show()"
   ]
  },
  {
   "cell_type": "markdown",
   "id": "b2bda068",
   "metadata": {
    "papermill": {
     "duration": 0.032743,
     "end_time": "2023-10-28T18:45:27.887231",
     "exception": false,
     "start_time": "2023-10-28T18:45:27.854488",
     "status": "completed"
    },
    "tags": []
   },
   "source": [
    "### From the graphs above, we can see the distributions and we can see the effect of the features on the price change."
   ]
  },
  {
   "cell_type": "markdown",
   "id": "0ec37545",
   "metadata": {
    "papermill": {
     "duration": 0.034512,
     "end_time": "2023-10-28T18:45:27.953045",
     "exception": false,
     "start_time": "2023-10-28T18:45:27.918533",
     "status": "completed"
    },
    "tags": []
   },
   "source": [
    "# Preprocessing"
   ]
  },
  {
   "cell_type": "code",
   "execution_count": null,
   "id": "4d5b2ed2",
   "metadata": {
    "execution": {
     "iopub.execute_input": "2023-10-28T18:45:28.017729Z",
     "iopub.status.busy": "2023-10-28T18:45:28.016643Z",
     "iopub.status.idle": "2023-10-28T18:45:28.021304Z",
     "shell.execute_reply": "2023-10-28T18:45:28.020339Z"
    },
    "papermill": {
     "duration": 0.039189,
     "end_time": "2023-10-28T18:45:28.023886",
     "exception": false,
     "start_time": "2023-10-28T18:45:27.984697",
     "status": "completed"
    },
    "tags": []
   },
   "outputs": [],
   "source": [
    "# Drop numerical : symboling, wheelbase,  boreratio, stroke, compressionratio, peakrpm, Company\n",
    "# Drop categorical : nothing"
   ]
  },
  {
   "cell_type": "code",
   "execution_count": null,
   "id": "76cd0c7e",
   "metadata": {
    "execution": {
     "iopub.execute_input": "2023-10-28T18:45:28.090195Z",
     "iopub.status.busy": "2023-10-28T18:45:28.089750Z",
     "iopub.status.idle": "2023-10-28T18:45:28.097630Z",
     "shell.execute_reply": "2023-10-28T18:45:28.096246Z"
    },
    "papermill": {
     "duration": 0.044769,
     "end_time": "2023-10-28T18:45:28.100158",
     "exception": false,
     "start_time": "2023-10-28T18:45:28.055389",
     "status": "completed"
    },
    "tags": []
   },
   "outputs": [],
   "source": [
    "df2 = df.drop(columns=['symboling','wheelbase','boreratio','stroke','compressionratio','peakrpm','Company'])"
   ]
  },
  {
   "cell_type": "code",
   "execution_count": null,
   "id": "8faf74bd",
   "metadata": {
    "execution": {
     "iopub.execute_input": "2023-10-28T18:45:28.165399Z",
     "iopub.status.busy": "2023-10-28T18:45:28.164954Z",
     "iopub.status.idle": "2023-10-28T18:45:28.198167Z",
     "shell.execute_reply": "2023-10-28T18:45:28.196753Z"
    },
    "papermill": {
     "duration": 0.069261,
     "end_time": "2023-10-28T18:45:28.201394",
     "exception": false,
     "start_time": "2023-10-28T18:45:28.132133",
     "status": "completed"
    },
    "scrolled": true,
    "tags": []
   },
   "outputs": [
    {
     "data": {
      "text/html": [
       "<div>\n",
       "<style scoped>\n",
       "    .dataframe tbody tr th:only-of-type {\n",
       "        vertical-align: middle;\n",
       "    }\n",
       "\n",
       "    .dataframe tbody tr th {\n",
       "        vertical-align: top;\n",
       "    }\n",
       "\n",
       "    .dataframe thead th {\n",
       "        text-align: right;\n",
       "    }\n",
       "</style>\n",
       "<table border=\"1\" class=\"dataframe\">\n",
       "  <thead>\n",
       "    <tr style=\"text-align: right;\">\n",
       "      <th></th>\n",
       "      <th>fueltype</th>\n",
       "      <th>aspiration</th>\n",
       "      <th>doornumber</th>\n",
       "      <th>carbody</th>\n",
       "      <th>drivewheel</th>\n",
       "      <th>enginelocation</th>\n",
       "      <th>carlength</th>\n",
       "      <th>carwidth</th>\n",
       "      <th>carheight</th>\n",
       "      <th>curbweight</th>\n",
       "      <th>enginetype</th>\n",
       "      <th>cylindernumber</th>\n",
       "      <th>enginesize</th>\n",
       "      <th>fuelsystem</th>\n",
       "      <th>horsepower</th>\n",
       "      <th>citympg</th>\n",
       "      <th>highwaympg</th>\n",
       "      <th>price</th>\n",
       "    </tr>\n",
       "  </thead>\n",
       "  <tbody>\n",
       "    <tr>\n",
       "      <th>0</th>\n",
       "      <td>gas</td>\n",
       "      <td>std</td>\n",
       "      <td>two</td>\n",
       "      <td>convertible</td>\n",
       "      <td>rwd</td>\n",
       "      <td>front</td>\n",
       "      <td>168.8</td>\n",
       "      <td>64.1</td>\n",
       "      <td>48.8</td>\n",
       "      <td>2548</td>\n",
       "      <td>dohc</td>\n",
       "      <td>four</td>\n",
       "      <td>130</td>\n",
       "      <td>mpfi</td>\n",
       "      <td>111</td>\n",
       "      <td>21</td>\n",
       "      <td>27</td>\n",
       "      <td>13495.000</td>\n",
       "    </tr>\n",
       "    <tr>\n",
       "      <th>1</th>\n",
       "      <td>gas</td>\n",
       "      <td>std</td>\n",
       "      <td>two</td>\n",
       "      <td>convertible</td>\n",
       "      <td>rwd</td>\n",
       "      <td>front</td>\n",
       "      <td>168.8</td>\n",
       "      <td>64.1</td>\n",
       "      <td>48.8</td>\n",
       "      <td>2548</td>\n",
       "      <td>dohc</td>\n",
       "      <td>four</td>\n",
       "      <td>130</td>\n",
       "      <td>mpfi</td>\n",
       "      <td>111</td>\n",
       "      <td>21</td>\n",
       "      <td>27</td>\n",
       "      <td>16500.000</td>\n",
       "    </tr>\n",
       "    <tr>\n",
       "      <th>2</th>\n",
       "      <td>gas</td>\n",
       "      <td>std</td>\n",
       "      <td>two</td>\n",
       "      <td>hatchback</td>\n",
       "      <td>rwd</td>\n",
       "      <td>front</td>\n",
       "      <td>171.2</td>\n",
       "      <td>65.5</td>\n",
       "      <td>52.4</td>\n",
       "      <td>2823</td>\n",
       "      <td>ohcv</td>\n",
       "      <td>six</td>\n",
       "      <td>152</td>\n",
       "      <td>mpfi</td>\n",
       "      <td>154</td>\n",
       "      <td>19</td>\n",
       "      <td>26</td>\n",
       "      <td>16500.000</td>\n",
       "    </tr>\n",
       "    <tr>\n",
       "      <th>3</th>\n",
       "      <td>gas</td>\n",
       "      <td>std</td>\n",
       "      <td>four</td>\n",
       "      <td>sedan</td>\n",
       "      <td>fwd</td>\n",
       "      <td>front</td>\n",
       "      <td>176.6</td>\n",
       "      <td>66.2</td>\n",
       "      <td>54.3</td>\n",
       "      <td>2337</td>\n",
       "      <td>ohc</td>\n",
       "      <td>four</td>\n",
       "      <td>109</td>\n",
       "      <td>mpfi</td>\n",
       "      <td>102</td>\n",
       "      <td>24</td>\n",
       "      <td>30</td>\n",
       "      <td>13950.000</td>\n",
       "    </tr>\n",
       "    <tr>\n",
       "      <th>4</th>\n",
       "      <td>gas</td>\n",
       "      <td>std</td>\n",
       "      <td>four</td>\n",
       "      <td>sedan</td>\n",
       "      <td>4wd</td>\n",
       "      <td>front</td>\n",
       "      <td>176.6</td>\n",
       "      <td>66.4</td>\n",
       "      <td>54.3</td>\n",
       "      <td>2824</td>\n",
       "      <td>ohc</td>\n",
       "      <td>five</td>\n",
       "      <td>136</td>\n",
       "      <td>mpfi</td>\n",
       "      <td>115</td>\n",
       "      <td>18</td>\n",
       "      <td>22</td>\n",
       "      <td>17450.000</td>\n",
       "    </tr>\n",
       "    <tr>\n",
       "      <th>5</th>\n",
       "      <td>gas</td>\n",
       "      <td>std</td>\n",
       "      <td>two</td>\n",
       "      <td>sedan</td>\n",
       "      <td>fwd</td>\n",
       "      <td>front</td>\n",
       "      <td>177.3</td>\n",
       "      <td>66.3</td>\n",
       "      <td>53.1</td>\n",
       "      <td>2507</td>\n",
       "      <td>ohc</td>\n",
       "      <td>five</td>\n",
       "      <td>136</td>\n",
       "      <td>mpfi</td>\n",
       "      <td>110</td>\n",
       "      <td>19</td>\n",
       "      <td>25</td>\n",
       "      <td>15250.000</td>\n",
       "    </tr>\n",
       "    <tr>\n",
       "      <th>6</th>\n",
       "      <td>gas</td>\n",
       "      <td>std</td>\n",
       "      <td>four</td>\n",
       "      <td>sedan</td>\n",
       "      <td>fwd</td>\n",
       "      <td>front</td>\n",
       "      <td>192.7</td>\n",
       "      <td>71.4</td>\n",
       "      <td>55.7</td>\n",
       "      <td>2844</td>\n",
       "      <td>ohc</td>\n",
       "      <td>five</td>\n",
       "      <td>136</td>\n",
       "      <td>mpfi</td>\n",
       "      <td>110</td>\n",
       "      <td>19</td>\n",
       "      <td>25</td>\n",
       "      <td>17710.000</td>\n",
       "    </tr>\n",
       "    <tr>\n",
       "      <th>7</th>\n",
       "      <td>gas</td>\n",
       "      <td>std</td>\n",
       "      <td>four</td>\n",
       "      <td>wagon</td>\n",
       "      <td>fwd</td>\n",
       "      <td>front</td>\n",
       "      <td>192.7</td>\n",
       "      <td>71.4</td>\n",
       "      <td>55.7</td>\n",
       "      <td>2954</td>\n",
       "      <td>ohc</td>\n",
       "      <td>five</td>\n",
       "      <td>136</td>\n",
       "      <td>mpfi</td>\n",
       "      <td>110</td>\n",
       "      <td>19</td>\n",
       "      <td>25</td>\n",
       "      <td>18920.000</td>\n",
       "    </tr>\n",
       "    <tr>\n",
       "      <th>8</th>\n",
       "      <td>gas</td>\n",
       "      <td>turbo</td>\n",
       "      <td>four</td>\n",
       "      <td>sedan</td>\n",
       "      <td>fwd</td>\n",
       "      <td>front</td>\n",
       "      <td>192.7</td>\n",
       "      <td>71.4</td>\n",
       "      <td>55.9</td>\n",
       "      <td>3086</td>\n",
       "      <td>ohc</td>\n",
       "      <td>five</td>\n",
       "      <td>131</td>\n",
       "      <td>mpfi</td>\n",
       "      <td>140</td>\n",
       "      <td>17</td>\n",
       "      <td>20</td>\n",
       "      <td>23875.000</td>\n",
       "    </tr>\n",
       "    <tr>\n",
       "      <th>9</th>\n",
       "      <td>gas</td>\n",
       "      <td>turbo</td>\n",
       "      <td>two</td>\n",
       "      <td>hatchback</td>\n",
       "      <td>4wd</td>\n",
       "      <td>front</td>\n",
       "      <td>178.2</td>\n",
       "      <td>67.9</td>\n",
       "      <td>52.0</td>\n",
       "      <td>3053</td>\n",
       "      <td>ohc</td>\n",
       "      <td>five</td>\n",
       "      <td>131</td>\n",
       "      <td>mpfi</td>\n",
       "      <td>160</td>\n",
       "      <td>16</td>\n",
       "      <td>22</td>\n",
       "      <td>17859.167</td>\n",
       "    </tr>\n",
       "    <tr>\n",
       "      <th>10</th>\n",
       "      <td>gas</td>\n",
       "      <td>std</td>\n",
       "      <td>two</td>\n",
       "      <td>sedan</td>\n",
       "      <td>rwd</td>\n",
       "      <td>front</td>\n",
       "      <td>176.8</td>\n",
       "      <td>64.8</td>\n",
       "      <td>54.3</td>\n",
       "      <td>2395</td>\n",
       "      <td>ohc</td>\n",
       "      <td>four</td>\n",
       "      <td>108</td>\n",
       "      <td>mpfi</td>\n",
       "      <td>101</td>\n",
       "      <td>23</td>\n",
       "      <td>29</td>\n",
       "      <td>16430.000</td>\n",
       "    </tr>\n",
       "    <tr>\n",
       "      <th>11</th>\n",
       "      <td>gas</td>\n",
       "      <td>std</td>\n",
       "      <td>four</td>\n",
       "      <td>sedan</td>\n",
       "      <td>rwd</td>\n",
       "      <td>front</td>\n",
       "      <td>176.8</td>\n",
       "      <td>64.8</td>\n",
       "      <td>54.3</td>\n",
       "      <td>2395</td>\n",
       "      <td>ohc</td>\n",
       "      <td>four</td>\n",
       "      <td>108</td>\n",
       "      <td>mpfi</td>\n",
       "      <td>101</td>\n",
       "      <td>23</td>\n",
       "      <td>29</td>\n",
       "      <td>16925.000</td>\n",
       "    </tr>\n",
       "    <tr>\n",
       "      <th>12</th>\n",
       "      <td>gas</td>\n",
       "      <td>std</td>\n",
       "      <td>two</td>\n",
       "      <td>sedan</td>\n",
       "      <td>rwd</td>\n",
       "      <td>front</td>\n",
       "      <td>176.8</td>\n",
       "      <td>64.8</td>\n",
       "      <td>54.3</td>\n",
       "      <td>2710</td>\n",
       "      <td>ohc</td>\n",
       "      <td>six</td>\n",
       "      <td>164</td>\n",
       "      <td>mpfi</td>\n",
       "      <td>121</td>\n",
       "      <td>21</td>\n",
       "      <td>28</td>\n",
       "      <td>20970.000</td>\n",
       "    </tr>\n",
       "    <tr>\n",
       "      <th>13</th>\n",
       "      <td>gas</td>\n",
       "      <td>std</td>\n",
       "      <td>four</td>\n",
       "      <td>sedan</td>\n",
       "      <td>rwd</td>\n",
       "      <td>front</td>\n",
       "      <td>176.8</td>\n",
       "      <td>64.8</td>\n",
       "      <td>54.3</td>\n",
       "      <td>2765</td>\n",
       "      <td>ohc</td>\n",
       "      <td>six</td>\n",
       "      <td>164</td>\n",
       "      <td>mpfi</td>\n",
       "      <td>121</td>\n",
       "      <td>21</td>\n",
       "      <td>28</td>\n",
       "      <td>21105.000</td>\n",
       "    </tr>\n",
       "    <tr>\n",
       "      <th>14</th>\n",
       "      <td>gas</td>\n",
       "      <td>std</td>\n",
       "      <td>four</td>\n",
       "      <td>sedan</td>\n",
       "      <td>rwd</td>\n",
       "      <td>front</td>\n",
       "      <td>189.0</td>\n",
       "      <td>66.9</td>\n",
       "      <td>55.7</td>\n",
       "      <td>3055</td>\n",
       "      <td>ohc</td>\n",
       "      <td>six</td>\n",
       "      <td>164</td>\n",
       "      <td>mpfi</td>\n",
       "      <td>121</td>\n",
       "      <td>20</td>\n",
       "      <td>25</td>\n",
       "      <td>24565.000</td>\n",
       "    </tr>\n",
       "  </tbody>\n",
       "</table>\n",
       "</div>"
      ],
      "text/plain": [
       "   fueltype aspiration doornumber      carbody drivewheel enginelocation  \\\n",
       "0       gas        std        two  convertible        rwd          front   \n",
       "1       gas        std        two  convertible        rwd          front   \n",
       "2       gas        std        two    hatchback        rwd          front   \n",
       "3       gas        std       four        sedan        fwd          front   \n",
       "4       gas        std       four        sedan        4wd          front   \n",
       "5       gas        std        two        sedan        fwd          front   \n",
       "6       gas        std       four        sedan        fwd          front   \n",
       "7       gas        std       four        wagon        fwd          front   \n",
       "8       gas      turbo       four        sedan        fwd          front   \n",
       "9       gas      turbo        two    hatchback        4wd          front   \n",
       "10      gas        std        two        sedan        rwd          front   \n",
       "11      gas        std       four        sedan        rwd          front   \n",
       "12      gas        std        two        sedan        rwd          front   \n",
       "13      gas        std       four        sedan        rwd          front   \n",
       "14      gas        std       four        sedan        rwd          front   \n",
       "\n",
       "    carlength  carwidth  carheight  curbweight enginetype cylindernumber  \\\n",
       "0       168.8      64.1       48.8        2548       dohc           four   \n",
       "1       168.8      64.1       48.8        2548       dohc           four   \n",
       "2       171.2      65.5       52.4        2823       ohcv            six   \n",
       "3       176.6      66.2       54.3        2337        ohc           four   \n",
       "4       176.6      66.4       54.3        2824        ohc           five   \n",
       "5       177.3      66.3       53.1        2507        ohc           five   \n",
       "6       192.7      71.4       55.7        2844        ohc           five   \n",
       "7       192.7      71.4       55.7        2954        ohc           five   \n",
       "8       192.7      71.4       55.9        3086        ohc           five   \n",
       "9       178.2      67.9       52.0        3053        ohc           five   \n",
       "10      176.8      64.8       54.3        2395        ohc           four   \n",
       "11      176.8      64.8       54.3        2395        ohc           four   \n",
       "12      176.8      64.8       54.3        2710        ohc            six   \n",
       "13      176.8      64.8       54.3        2765        ohc            six   \n",
       "14      189.0      66.9       55.7        3055        ohc            six   \n",
       "\n",
       "    enginesize fuelsystem  horsepower  citympg  highwaympg      price  \n",
       "0          130       mpfi         111       21          27  13495.000  \n",
       "1          130       mpfi         111       21          27  16500.000  \n",
       "2          152       mpfi         154       19          26  16500.000  \n",
       "3          109       mpfi         102       24          30  13950.000  \n",
       "4          136       mpfi         115       18          22  17450.000  \n",
       "5          136       mpfi         110       19          25  15250.000  \n",
       "6          136       mpfi         110       19          25  17710.000  \n",
       "7          136       mpfi         110       19          25  18920.000  \n",
       "8          131       mpfi         140       17          20  23875.000  \n",
       "9          131       mpfi         160       16          22  17859.167  \n",
       "10         108       mpfi         101       23          29  16430.000  \n",
       "11         108       mpfi         101       23          29  16925.000  \n",
       "12         164       mpfi         121       21          28  20970.000  \n",
       "13         164       mpfi         121       21          28  21105.000  \n",
       "14         164       mpfi         121       20          25  24565.000  "
      ]
     },
     "execution_count": 28,
     "metadata": {},
     "output_type": "execute_result"
    }
   ],
   "source": [
    "df2.head(15)"
   ]
  },
  {
   "cell_type": "markdown",
   "id": "95c309e7",
   "metadata": {
    "papermill": {
     "duration": 0.032746,
     "end_time": "2023-10-28T18:45:28.267329",
     "exception": false,
     "start_time": "2023-10-28T18:45:28.234583",
     "status": "completed"
    },
    "tags": []
   },
   "source": [
    "### Convert categorical values to binary columns"
   ]
  },
  {
   "cell_type": "code",
   "execution_count": null,
   "id": "a358a1d4",
   "metadata": {
    "execution": {
     "iopub.execute_input": "2023-10-28T18:45:28.335036Z",
     "iopub.status.busy": "2023-10-28T18:45:28.334484Z",
     "iopub.status.idle": "2023-10-28T18:45:28.350194Z",
     "shell.execute_reply": "2023-10-28T18:45:28.349068Z"
    },
    "papermill": {
     "duration": 0.053418,
     "end_time": "2023-10-28T18:45:28.353108",
     "exception": false,
     "start_time": "2023-10-28T18:45:28.299690",
     "status": "completed"
    },
    "tags": []
   },
   "outputs": [],
   "source": [
    "df2 = pd.get_dummies(columns=[\"fueltype\",\"enginelocation\",\"aspiration\",\"doornumber\",\"carbody\",\"drivewheel\",\"enginetype\",\n",
    "                                \"cylindernumber\",\"fuelsystem\"],data=df2)"
   ]
  },
  {
   "cell_type": "code",
   "execution_count": null,
   "id": "051ba1d2",
   "metadata": {
    "execution": {
     "iopub.execute_input": "2023-10-28T18:45:28.419728Z",
     "iopub.status.busy": "2023-10-28T18:45:28.419291Z",
     "iopub.status.idle": "2023-10-28T18:45:28.457766Z",
     "shell.execute_reply": "2023-10-28T18:45:28.456498Z"
    },
    "papermill": {
     "duration": 0.074899,
     "end_time": "2023-10-28T18:45:28.460496",
     "exception": false,
     "start_time": "2023-10-28T18:45:28.385597",
     "status": "completed"
    },
    "scrolled": true,
    "tags": []
   },
   "outputs": [
    {
     "data": {
      "text/html": [
       "<div>\n",
       "<style scoped>\n",
       "    .dataframe tbody tr th:only-of-type {\n",
       "        vertical-align: middle;\n",
       "    }\n",
       "\n",
       "    .dataframe tbody tr th {\n",
       "        vertical-align: top;\n",
       "    }\n",
       "\n",
       "    .dataframe thead th {\n",
       "        text-align: right;\n",
       "    }\n",
       "</style>\n",
       "<table border=\"1\" class=\"dataframe\">\n",
       "  <thead>\n",
       "    <tr style=\"text-align: right;\">\n",
       "      <th></th>\n",
       "      <th>carlength</th>\n",
       "      <th>carwidth</th>\n",
       "      <th>carheight</th>\n",
       "      <th>curbweight</th>\n",
       "      <th>enginesize</th>\n",
       "      <th>horsepower</th>\n",
       "      <th>citympg</th>\n",
       "      <th>highwaympg</th>\n",
       "      <th>price</th>\n",
       "      <th>fueltype_diesel</th>\n",
       "      <th>...</th>\n",
       "      <th>cylindernumber_twelve</th>\n",
       "      <th>cylindernumber_two</th>\n",
       "      <th>fuelsystem_1bbl</th>\n",
       "      <th>fuelsystem_2bbl</th>\n",
       "      <th>fuelsystem_4bbl</th>\n",
       "      <th>fuelsystem_idi</th>\n",
       "      <th>fuelsystem_mfi</th>\n",
       "      <th>fuelsystem_mpfi</th>\n",
       "      <th>fuelsystem_spdi</th>\n",
       "      <th>fuelsystem_spfi</th>\n",
       "    </tr>\n",
       "  </thead>\n",
       "  <tbody>\n",
       "    <tr>\n",
       "      <th>0</th>\n",
       "      <td>168.8</td>\n",
       "      <td>64.1</td>\n",
       "      <td>48.8</td>\n",
       "      <td>2548</td>\n",
       "      <td>130</td>\n",
       "      <td>111</td>\n",
       "      <td>21</td>\n",
       "      <td>27</td>\n",
       "      <td>13495.000</td>\n",
       "      <td>False</td>\n",
       "      <td>...</td>\n",
       "      <td>False</td>\n",
       "      <td>False</td>\n",
       "      <td>False</td>\n",
       "      <td>False</td>\n",
       "      <td>False</td>\n",
       "      <td>False</td>\n",
       "      <td>False</td>\n",
       "      <td>True</td>\n",
       "      <td>False</td>\n",
       "      <td>False</td>\n",
       "    </tr>\n",
       "    <tr>\n",
       "      <th>1</th>\n",
       "      <td>168.8</td>\n",
       "      <td>64.1</td>\n",
       "      <td>48.8</td>\n",
       "      <td>2548</td>\n",
       "      <td>130</td>\n",
       "      <td>111</td>\n",
       "      <td>21</td>\n",
       "      <td>27</td>\n",
       "      <td>16500.000</td>\n",
       "      <td>False</td>\n",
       "      <td>...</td>\n",
       "      <td>False</td>\n",
       "      <td>False</td>\n",
       "      <td>False</td>\n",
       "      <td>False</td>\n",
       "      <td>False</td>\n",
       "      <td>False</td>\n",
       "      <td>False</td>\n",
       "      <td>True</td>\n",
       "      <td>False</td>\n",
       "      <td>False</td>\n",
       "    </tr>\n",
       "    <tr>\n",
       "      <th>2</th>\n",
       "      <td>171.2</td>\n",
       "      <td>65.5</td>\n",
       "      <td>52.4</td>\n",
       "      <td>2823</td>\n",
       "      <td>152</td>\n",
       "      <td>154</td>\n",
       "      <td>19</td>\n",
       "      <td>26</td>\n",
       "      <td>16500.000</td>\n",
       "      <td>False</td>\n",
       "      <td>...</td>\n",
       "      <td>False</td>\n",
       "      <td>False</td>\n",
       "      <td>False</td>\n",
       "      <td>False</td>\n",
       "      <td>False</td>\n",
       "      <td>False</td>\n",
       "      <td>False</td>\n",
       "      <td>True</td>\n",
       "      <td>False</td>\n",
       "      <td>False</td>\n",
       "    </tr>\n",
       "    <tr>\n",
       "      <th>3</th>\n",
       "      <td>176.6</td>\n",
       "      <td>66.2</td>\n",
       "      <td>54.3</td>\n",
       "      <td>2337</td>\n",
       "      <td>109</td>\n",
       "      <td>102</td>\n",
       "      <td>24</td>\n",
       "      <td>30</td>\n",
       "      <td>13950.000</td>\n",
       "      <td>False</td>\n",
       "      <td>...</td>\n",
       "      <td>False</td>\n",
       "      <td>False</td>\n",
       "      <td>False</td>\n",
       "      <td>False</td>\n",
       "      <td>False</td>\n",
       "      <td>False</td>\n",
       "      <td>False</td>\n",
       "      <td>True</td>\n",
       "      <td>False</td>\n",
       "      <td>False</td>\n",
       "    </tr>\n",
       "    <tr>\n",
       "      <th>4</th>\n",
       "      <td>176.6</td>\n",
       "      <td>66.4</td>\n",
       "      <td>54.3</td>\n",
       "      <td>2824</td>\n",
       "      <td>136</td>\n",
       "      <td>115</td>\n",
       "      <td>18</td>\n",
       "      <td>22</td>\n",
       "      <td>17450.000</td>\n",
       "      <td>False</td>\n",
       "      <td>...</td>\n",
       "      <td>False</td>\n",
       "      <td>False</td>\n",
       "      <td>False</td>\n",
       "      <td>False</td>\n",
       "      <td>False</td>\n",
       "      <td>False</td>\n",
       "      <td>False</td>\n",
       "      <td>True</td>\n",
       "      <td>False</td>\n",
       "      <td>False</td>\n",
       "    </tr>\n",
       "    <tr>\n",
       "      <th>5</th>\n",
       "      <td>177.3</td>\n",
       "      <td>66.3</td>\n",
       "      <td>53.1</td>\n",
       "      <td>2507</td>\n",
       "      <td>136</td>\n",
       "      <td>110</td>\n",
       "      <td>19</td>\n",
       "      <td>25</td>\n",
       "      <td>15250.000</td>\n",
       "      <td>False</td>\n",
       "      <td>...</td>\n",
       "      <td>False</td>\n",
       "      <td>False</td>\n",
       "      <td>False</td>\n",
       "      <td>False</td>\n",
       "      <td>False</td>\n",
       "      <td>False</td>\n",
       "      <td>False</td>\n",
       "      <td>True</td>\n",
       "      <td>False</td>\n",
       "      <td>False</td>\n",
       "    </tr>\n",
       "    <tr>\n",
       "      <th>6</th>\n",
       "      <td>192.7</td>\n",
       "      <td>71.4</td>\n",
       "      <td>55.7</td>\n",
       "      <td>2844</td>\n",
       "      <td>136</td>\n",
       "      <td>110</td>\n",
       "      <td>19</td>\n",
       "      <td>25</td>\n",
       "      <td>17710.000</td>\n",
       "      <td>False</td>\n",
       "      <td>...</td>\n",
       "      <td>False</td>\n",
       "      <td>False</td>\n",
       "      <td>False</td>\n",
       "      <td>False</td>\n",
       "      <td>False</td>\n",
       "      <td>False</td>\n",
       "      <td>False</td>\n",
       "      <td>True</td>\n",
       "      <td>False</td>\n",
       "      <td>False</td>\n",
       "    </tr>\n",
       "    <tr>\n",
       "      <th>7</th>\n",
       "      <td>192.7</td>\n",
       "      <td>71.4</td>\n",
       "      <td>55.7</td>\n",
       "      <td>2954</td>\n",
       "      <td>136</td>\n",
       "      <td>110</td>\n",
       "      <td>19</td>\n",
       "      <td>25</td>\n",
       "      <td>18920.000</td>\n",
       "      <td>False</td>\n",
       "      <td>...</td>\n",
       "      <td>False</td>\n",
       "      <td>False</td>\n",
       "      <td>False</td>\n",
       "      <td>False</td>\n",
       "      <td>False</td>\n",
       "      <td>False</td>\n",
       "      <td>False</td>\n",
       "      <td>True</td>\n",
       "      <td>False</td>\n",
       "      <td>False</td>\n",
       "    </tr>\n",
       "    <tr>\n",
       "      <th>8</th>\n",
       "      <td>192.7</td>\n",
       "      <td>71.4</td>\n",
       "      <td>55.9</td>\n",
       "      <td>3086</td>\n",
       "      <td>131</td>\n",
       "      <td>140</td>\n",
       "      <td>17</td>\n",
       "      <td>20</td>\n",
       "      <td>23875.000</td>\n",
       "      <td>False</td>\n",
       "      <td>...</td>\n",
       "      <td>False</td>\n",
       "      <td>False</td>\n",
       "      <td>False</td>\n",
       "      <td>False</td>\n",
       "      <td>False</td>\n",
       "      <td>False</td>\n",
       "      <td>False</td>\n",
       "      <td>True</td>\n",
       "      <td>False</td>\n",
       "      <td>False</td>\n",
       "    </tr>\n",
       "    <tr>\n",
       "      <th>9</th>\n",
       "      <td>178.2</td>\n",
       "      <td>67.9</td>\n",
       "      <td>52.0</td>\n",
       "      <td>3053</td>\n",
       "      <td>131</td>\n",
       "      <td>160</td>\n",
       "      <td>16</td>\n",
       "      <td>22</td>\n",
       "      <td>17859.167</td>\n",
       "      <td>False</td>\n",
       "      <td>...</td>\n",
       "      <td>False</td>\n",
       "      <td>False</td>\n",
       "      <td>False</td>\n",
       "      <td>False</td>\n",
       "      <td>False</td>\n",
       "      <td>False</td>\n",
       "      <td>False</td>\n",
       "      <td>True</td>\n",
       "      <td>False</td>\n",
       "      <td>False</td>\n",
       "    </tr>\n",
       "    <tr>\n",
       "      <th>10</th>\n",
       "      <td>176.8</td>\n",
       "      <td>64.8</td>\n",
       "      <td>54.3</td>\n",
       "      <td>2395</td>\n",
       "      <td>108</td>\n",
       "      <td>101</td>\n",
       "      <td>23</td>\n",
       "      <td>29</td>\n",
       "      <td>16430.000</td>\n",
       "      <td>False</td>\n",
       "      <td>...</td>\n",
       "      <td>False</td>\n",
       "      <td>False</td>\n",
       "      <td>False</td>\n",
       "      <td>False</td>\n",
       "      <td>False</td>\n",
       "      <td>False</td>\n",
       "      <td>False</td>\n",
       "      <td>True</td>\n",
       "      <td>False</td>\n",
       "      <td>False</td>\n",
       "    </tr>\n",
       "    <tr>\n",
       "      <th>11</th>\n",
       "      <td>176.8</td>\n",
       "      <td>64.8</td>\n",
       "      <td>54.3</td>\n",
       "      <td>2395</td>\n",
       "      <td>108</td>\n",
       "      <td>101</td>\n",
       "      <td>23</td>\n",
       "      <td>29</td>\n",
       "      <td>16925.000</td>\n",
       "      <td>False</td>\n",
       "      <td>...</td>\n",
       "      <td>False</td>\n",
       "      <td>False</td>\n",
       "      <td>False</td>\n",
       "      <td>False</td>\n",
       "      <td>False</td>\n",
       "      <td>False</td>\n",
       "      <td>False</td>\n",
       "      <td>True</td>\n",
       "      <td>False</td>\n",
       "      <td>False</td>\n",
       "    </tr>\n",
       "    <tr>\n",
       "      <th>12</th>\n",
       "      <td>176.8</td>\n",
       "      <td>64.8</td>\n",
       "      <td>54.3</td>\n",
       "      <td>2710</td>\n",
       "      <td>164</td>\n",
       "      <td>121</td>\n",
       "      <td>21</td>\n",
       "      <td>28</td>\n",
       "      <td>20970.000</td>\n",
       "      <td>False</td>\n",
       "      <td>...</td>\n",
       "      <td>False</td>\n",
       "      <td>False</td>\n",
       "      <td>False</td>\n",
       "      <td>False</td>\n",
       "      <td>False</td>\n",
       "      <td>False</td>\n",
       "      <td>False</td>\n",
       "      <td>True</td>\n",
       "      <td>False</td>\n",
       "      <td>False</td>\n",
       "    </tr>\n",
       "    <tr>\n",
       "      <th>13</th>\n",
       "      <td>176.8</td>\n",
       "      <td>64.8</td>\n",
       "      <td>54.3</td>\n",
       "      <td>2765</td>\n",
       "      <td>164</td>\n",
       "      <td>121</td>\n",
       "      <td>21</td>\n",
       "      <td>28</td>\n",
       "      <td>21105.000</td>\n",
       "      <td>False</td>\n",
       "      <td>...</td>\n",
       "      <td>False</td>\n",
       "      <td>False</td>\n",
       "      <td>False</td>\n",
       "      <td>False</td>\n",
       "      <td>False</td>\n",
       "      <td>False</td>\n",
       "      <td>False</td>\n",
       "      <td>True</td>\n",
       "      <td>False</td>\n",
       "      <td>False</td>\n",
       "    </tr>\n",
       "    <tr>\n",
       "      <th>14</th>\n",
       "      <td>189.0</td>\n",
       "      <td>66.9</td>\n",
       "      <td>55.7</td>\n",
       "      <td>3055</td>\n",
       "      <td>164</td>\n",
       "      <td>121</td>\n",
       "      <td>20</td>\n",
       "      <td>25</td>\n",
       "      <td>24565.000</td>\n",
       "      <td>False</td>\n",
       "      <td>...</td>\n",
       "      <td>False</td>\n",
       "      <td>False</td>\n",
       "      <td>False</td>\n",
       "      <td>False</td>\n",
       "      <td>False</td>\n",
       "      <td>False</td>\n",
       "      <td>False</td>\n",
       "      <td>True</td>\n",
       "      <td>False</td>\n",
       "      <td>False</td>\n",
       "    </tr>\n",
       "  </tbody>\n",
       "</table>\n",
       "<p>15 rows × 47 columns</p>\n",
       "</div>"
      ],
      "text/plain": [
       "    carlength  carwidth  carheight  curbweight  enginesize  horsepower  \\\n",
       "0       168.8      64.1       48.8        2548         130         111   \n",
       "1       168.8      64.1       48.8        2548         130         111   \n",
       "2       171.2      65.5       52.4        2823         152         154   \n",
       "3       176.6      66.2       54.3        2337         109         102   \n",
       "4       176.6      66.4       54.3        2824         136         115   \n",
       "5       177.3      66.3       53.1        2507         136         110   \n",
       "6       192.7      71.4       55.7        2844         136         110   \n",
       "7       192.7      71.4       55.7        2954         136         110   \n",
       "8       192.7      71.4       55.9        3086         131         140   \n",
       "9       178.2      67.9       52.0        3053         131         160   \n",
       "10      176.8      64.8       54.3        2395         108         101   \n",
       "11      176.8      64.8       54.3        2395         108         101   \n",
       "12      176.8      64.8       54.3        2710         164         121   \n",
       "13      176.8      64.8       54.3        2765         164         121   \n",
       "14      189.0      66.9       55.7        3055         164         121   \n",
       "\n",
       "    citympg  highwaympg      price  fueltype_diesel  ...  \\\n",
       "0        21          27  13495.000            False  ...   \n",
       "1        21          27  16500.000            False  ...   \n",
       "2        19          26  16500.000            False  ...   \n",
       "3        24          30  13950.000            False  ...   \n",
       "4        18          22  17450.000            False  ...   \n",
       "5        19          25  15250.000            False  ...   \n",
       "6        19          25  17710.000            False  ...   \n",
       "7        19          25  18920.000            False  ...   \n",
       "8        17          20  23875.000            False  ...   \n",
       "9        16          22  17859.167            False  ...   \n",
       "10       23          29  16430.000            False  ...   \n",
       "11       23          29  16925.000            False  ...   \n",
       "12       21          28  20970.000            False  ...   \n",
       "13       21          28  21105.000            False  ...   \n",
       "14       20          25  24565.000            False  ...   \n",
       "\n",
       "    cylindernumber_twelve  cylindernumber_two  fuelsystem_1bbl  \\\n",
       "0                   False               False            False   \n",
       "1                   False               False            False   \n",
       "2                   False               False            False   \n",
       "3                   False               False            False   \n",
       "4                   False               False            False   \n",
       "5                   False               False            False   \n",
       "6                   False               False            False   \n",
       "7                   False               False            False   \n",
       "8                   False               False            False   \n",
       "9                   False               False            False   \n",
       "10                  False               False            False   \n",
       "11                  False               False            False   \n",
       "12                  False               False            False   \n",
       "13                  False               False            False   \n",
       "14                  False               False            False   \n",
       "\n",
       "    fuelsystem_2bbl  fuelsystem_4bbl  fuelsystem_idi  fuelsystem_mfi  \\\n",
       "0             False            False           False           False   \n",
       "1             False            False           False           False   \n",
       "2             False            False           False           False   \n",
       "3             False            False           False           False   \n",
       "4             False            False           False           False   \n",
       "5             False            False           False           False   \n",
       "6             False            False           False           False   \n",
       "7             False            False           False           False   \n",
       "8             False            False           False           False   \n",
       "9             False            False           False           False   \n",
       "10            False            False           False           False   \n",
       "11            False            False           False           False   \n",
       "12            False            False           False           False   \n",
       "13            False            False           False           False   \n",
       "14            False            False           False           False   \n",
       "\n",
       "    fuelsystem_mpfi  fuelsystem_spdi  fuelsystem_spfi  \n",
       "0              True            False            False  \n",
       "1              True            False            False  \n",
       "2              True            False            False  \n",
       "3              True            False            False  \n",
       "4              True            False            False  \n",
       "5              True            False            False  \n",
       "6              True            False            False  \n",
       "7              True            False            False  \n",
       "8              True            False            False  \n",
       "9              True            False            False  \n",
       "10             True            False            False  \n",
       "11             True            False            False  \n",
       "12             True            False            False  \n",
       "13             True            False            False  \n",
       "14             True            False            False  \n",
       "\n",
       "[15 rows x 47 columns]"
      ]
     },
     "execution_count": 30,
     "metadata": {},
     "output_type": "execute_result"
    }
   ],
   "source": [
    "df2.head(15)"
   ]
  },
  {
   "cell_type": "code",
   "execution_count": null,
   "id": "11395f62",
   "metadata": {
    "execution": {
     "iopub.execute_input": "2023-10-28T18:45:28.527703Z",
     "iopub.status.busy": "2023-10-28T18:45:28.527264Z",
     "iopub.status.idle": "2023-10-28T18:45:28.532418Z",
     "shell.execute_reply": "2023-10-28T18:45:28.531050Z"
    },
    "papermill": {
     "duration": 0.04215,
     "end_time": "2023-10-28T18:45:28.534966",
     "exception": false,
     "start_time": "2023-10-28T18:45:28.492816",
     "status": "completed"
    },
    "tags": []
   },
   "outputs": [],
   "source": [
    "# Done"
   ]
  },
  {
   "cell_type": "markdown",
   "id": "9dbdc151",
   "metadata": {
    "papermill": {
     "duration": 0.033097,
     "end_time": "2023-10-28T18:45:28.602834",
     "exception": false,
     "start_time": "2023-10-28T18:45:28.569737",
     "status": "completed"
    },
    "tags": []
   },
   "source": [
    "# Normalize"
   ]
  },
  {
   "cell_type": "code",
   "execution_count": null,
   "id": "e3e84686",
   "metadata": {
    "execution": {
     "iopub.execute_input": "2023-10-28T18:45:28.674590Z",
     "iopub.status.busy": "2023-10-28T18:45:28.674172Z",
     "iopub.status.idle": "2023-10-28T18:45:28.679335Z",
     "shell.execute_reply": "2023-10-28T18:45:28.678220Z"
    },
    "papermill": {
     "duration": 0.044991,
     "end_time": "2023-10-28T18:45:28.681804",
     "exception": false,
     "start_time": "2023-10-28T18:45:28.636813",
     "status": "completed"
    },
    "tags": []
   },
   "outputs": [],
   "source": [
    "scaler = StandardScaler()"
   ]
  },
  {
   "cell_type": "code",
   "execution_count": null,
   "id": "2c154ac1",
   "metadata": {
    "execution": {
     "iopub.execute_input": "2023-10-28T18:45:28.751455Z",
     "iopub.status.busy": "2023-10-28T18:45:28.750683Z",
     "iopub.status.idle": "2023-10-28T18:45:28.759053Z",
     "shell.execute_reply": "2023-10-28T18:45:28.757736Z"
    },
    "papermill": {
     "duration": 0.048751,
     "end_time": "2023-10-28T18:45:28.762845",
     "exception": false,
     "start_time": "2023-10-28T18:45:28.714094",
     "status": "completed"
    },
    "tags": []
   },
   "outputs": [],
   "source": [
    "numerical_columns = df2.select_dtypes(include=['int64', 'float64']).columns.tolist()\n",
    "numerical_columns.remove('price')"
   ]
  },
  {
   "cell_type": "code",
   "execution_count": null,
   "id": "46b8f92c",
   "metadata": {
    "execution": {
     "iopub.execute_input": "2023-10-28T18:45:28.834178Z",
     "iopub.status.busy": "2023-10-28T18:45:28.833706Z",
     "iopub.status.idle": "2023-10-28T18:45:28.842181Z",
     "shell.execute_reply": "2023-10-28T18:45:28.840967Z"
    },
    "papermill": {
     "duration": 0.046267,
     "end_time": "2023-10-28T18:45:28.845133",
     "exception": false,
     "start_time": "2023-10-28T18:45:28.798866",
     "status": "completed"
    },
    "scrolled": true,
    "tags": []
   },
   "outputs": [
    {
     "data": {
      "text/plain": [
       "['carlength',\n",
       " 'carwidth',\n",
       " 'carheight',\n",
       " 'curbweight',\n",
       " 'enginesize',\n",
       " 'horsepower',\n",
       " 'citympg',\n",
       " 'highwaympg']"
      ]
     },
     "execution_count": 34,
     "metadata": {},
     "output_type": "execute_result"
    }
   ],
   "source": [
    "numerical_columns"
   ]
  },
  {
   "cell_type": "code",
   "execution_count": null,
   "id": "3529ef65",
   "metadata": {
    "execution": {
     "iopub.execute_input": "2023-10-28T18:45:28.913903Z",
     "iopub.status.busy": "2023-10-28T18:45:28.913414Z",
     "iopub.status.idle": "2023-10-28T18:45:28.927712Z",
     "shell.execute_reply": "2023-10-28T18:45:28.925899Z"
    },
    "papermill": {
     "duration": 0.051552,
     "end_time": "2023-10-28T18:45:28.930597",
     "exception": false,
     "start_time": "2023-10-28T18:45:28.879045",
     "status": "completed"
    },
    "tags": []
   },
   "outputs": [],
   "source": [
    "df2[numerical_columns] = scaler.fit_transform(df2[numerical_columns])"
   ]
  },
  {
   "cell_type": "markdown",
   "id": "2ac0ea1f",
   "metadata": {
    "papermill": {
     "duration": 0.032494,
     "end_time": "2023-10-28T18:45:28.999032",
     "exception": false,
     "start_time": "2023-10-28T18:45:28.966538",
     "status": "completed"
    },
    "tags": []
   },
   "source": [
    "# Modeling"
   ]
  },
  {
   "cell_type": "code",
   "execution_count": null,
   "id": "da34cecc",
   "metadata": {
    "execution": {
     "iopub.execute_input": "2023-10-28T18:45:29.069753Z",
     "iopub.status.busy": "2023-10-28T18:45:29.069300Z",
     "iopub.status.idle": "2023-10-28T18:45:29.077754Z",
     "shell.execute_reply": "2023-10-28T18:45:29.076397Z"
    },
    "papermill": {
     "duration": 0.046384,
     "end_time": "2023-10-28T18:45:29.080588",
     "exception": false,
     "start_time": "2023-10-28T18:45:29.034204",
     "status": "completed"
    },
    "tags": []
   },
   "outputs": [],
   "source": [
    "X = df2.drop(columns=['price'])\n",
    "y = df2['price'].values.reshape(-1,1)"
   ]
  },
  {
   "cell_type": "code",
   "execution_count": null,
   "id": "7871aa21",
   "metadata": {
    "execution": {
     "iopub.execute_input": "2023-10-28T18:45:29.150688Z",
     "iopub.status.busy": "2023-10-28T18:45:29.150247Z",
     "iopub.status.idle": "2023-10-28T18:45:29.157361Z",
     "shell.execute_reply": "2023-10-28T18:45:29.156248Z"
    },
    "papermill": {
     "duration": 0.045304,
     "end_time": "2023-10-28T18:45:29.160052",
     "exception": false,
     "start_time": "2023-10-28T18:45:29.114748",
     "status": "completed"
    },
    "tags": []
   },
   "outputs": [
    {
     "data": {
      "text/plain": [
       "(205, 46)"
      ]
     },
     "execution_count": 37,
     "metadata": {},
     "output_type": "execute_result"
    }
   ],
   "source": [
    "X.shape"
   ]
  },
  {
   "cell_type": "code",
   "execution_count": null,
   "id": "ccef3bcb",
   "metadata": {
    "execution": {
     "iopub.execute_input": "2023-10-28T18:45:29.229057Z",
     "iopub.status.busy": "2023-10-28T18:45:29.228648Z",
     "iopub.status.idle": "2023-10-28T18:45:29.235974Z",
     "shell.execute_reply": "2023-10-28T18:45:29.234961Z"
    },
    "papermill": {
     "duration": 0.044965,
     "end_time": "2023-10-28T18:45:29.238246",
     "exception": false,
     "start_time": "2023-10-28T18:45:29.193281",
     "status": "completed"
    },
    "tags": []
   },
   "outputs": [
    {
     "data": {
      "text/plain": [
       "(205, 1)"
      ]
     },
     "execution_count": 38,
     "metadata": {},
     "output_type": "execute_result"
    }
   ],
   "source": [
    "y.shape"
   ]
  },
  {
   "cell_type": "code",
   "execution_count": null,
   "id": "2c88bff3",
   "metadata": {
    "execution": {
     "iopub.execute_input": "2023-10-28T18:45:29.305557Z",
     "iopub.status.busy": "2023-10-28T18:45:29.305147Z",
     "iopub.status.idle": "2023-10-28T18:45:29.314052Z",
     "shell.execute_reply": "2023-10-28T18:45:29.312778Z"
    },
    "papermill": {
     "duration": 0.046368,
     "end_time": "2023-10-28T18:45:29.316687",
     "exception": false,
     "start_time": "2023-10-28T18:45:29.270319",
     "status": "completed"
    },
    "tags": []
   },
   "outputs": [],
   "source": [
    "X_train , X_test , y_train , y_test = train_test_split(X,y,test_size=0.2,random_state=42)"
   ]
  },
  {
   "cell_type": "code",
   "execution_count": null,
   "id": "4330990a",
   "metadata": {
    "execution": {
     "iopub.execute_input": "2023-10-28T18:45:29.384552Z",
     "iopub.status.busy": "2023-10-28T18:45:29.384131Z",
     "iopub.status.idle": "2023-10-28T18:45:29.390046Z",
     "shell.execute_reply": "2023-10-28T18:45:29.388662Z"
    },
    "papermill": {
     "duration": 0.043515,
     "end_time": "2023-10-28T18:45:29.392590",
     "exception": false,
     "start_time": "2023-10-28T18:45:29.349075",
     "status": "completed"
    },
    "tags": []
   },
   "outputs": [],
   "source": [
    "pickle.dump(scaler,open('scaling.pkl','wb'))"
   ]
  },
  {
   "cell_type": "code",
   "execution_count": null,
   "id": "7730f320",
   "metadata": {
    "execution": {
     "iopub.execute_input": "2023-10-28T18:45:29.460858Z",
     "iopub.status.busy": "2023-10-28T18:45:29.460408Z",
     "iopub.status.idle": "2023-10-28T18:45:29.500997Z",
     "shell.execute_reply": "2023-10-28T18:45:29.499722Z"
    },
    "papermill": {
     "duration": 0.078317,
     "end_time": "2023-10-28T18:45:29.503709",
     "exception": false,
     "start_time": "2023-10-28T18:45:29.425392",
     "status": "completed"
    },
    "scrolled": true,
    "tags": []
   },
   "outputs": [
    {
     "data": {
      "text/html": [
       "<div>\n",
       "<style scoped>\n",
       "    .dataframe tbody tr th:only-of-type {\n",
       "        vertical-align: middle;\n",
       "    }\n",
       "\n",
       "    .dataframe tbody tr th {\n",
       "        vertical-align: top;\n",
       "    }\n",
       "\n",
       "    .dataframe thead th {\n",
       "        text-align: right;\n",
       "    }\n",
       "</style>\n",
       "<table border=\"1\" class=\"dataframe\">\n",
       "  <thead>\n",
       "    <tr style=\"text-align: right;\">\n",
       "      <th></th>\n",
       "      <th>carlength</th>\n",
       "      <th>carwidth</th>\n",
       "      <th>carheight</th>\n",
       "      <th>curbweight</th>\n",
       "      <th>enginesize</th>\n",
       "      <th>horsepower</th>\n",
       "      <th>citympg</th>\n",
       "      <th>highwaympg</th>\n",
       "      <th>fueltype_diesel</th>\n",
       "      <th>fueltype_gas</th>\n",
       "      <th>...</th>\n",
       "      <th>cylindernumber_twelve</th>\n",
       "      <th>cylindernumber_two</th>\n",
       "      <th>fuelsystem_1bbl</th>\n",
       "      <th>fuelsystem_2bbl</th>\n",
       "      <th>fuelsystem_4bbl</th>\n",
       "      <th>fuelsystem_idi</th>\n",
       "      <th>fuelsystem_mfi</th>\n",
       "      <th>fuelsystem_mpfi</th>\n",
       "      <th>fuelsystem_spdi</th>\n",
       "      <th>fuelsystem_spfi</th>\n",
       "    </tr>\n",
       "  </thead>\n",
       "  <tbody>\n",
       "    <tr>\n",
       "      <th>66</th>\n",
       "      <td>0.077250</td>\n",
       "      <td>0.089812</td>\n",
       "      <td>0.276967</td>\n",
       "      <td>0.278074</td>\n",
       "      <td>0.170739</td>\n",
       "      <td>-0.814171</td>\n",
       "      <td>0.885740</td>\n",
       "      <td>1.200761</td>\n",
       "      <td>True</td>\n",
       "      <td>False</td>\n",
       "      <td>...</td>\n",
       "      <td>False</td>\n",
       "      <td>False</td>\n",
       "      <td>False</td>\n",
       "      <td>False</td>\n",
       "      <td>False</td>\n",
       "      <td>True</td>\n",
       "      <td>False</td>\n",
       "      <td>False</td>\n",
       "      <td>False</td>\n",
       "      <td>False</td>\n",
       "    </tr>\n",
       "    <tr>\n",
       "      <th>111</th>\n",
       "      <td>1.027916</td>\n",
       "      <td>1.164596</td>\n",
       "      <td>1.220535</td>\n",
       "      <td>1.000049</td>\n",
       "      <td>-0.166277</td>\n",
       "      <td>-0.231119</td>\n",
       "      <td>-0.953012</td>\n",
       "      <td>-0.982764</td>\n",
       "      <td>False</td>\n",
       "      <td>True</td>\n",
       "      <td>...</td>\n",
       "      <td>False</td>\n",
       "      <td>False</td>\n",
       "      <td>False</td>\n",
       "      <td>False</td>\n",
       "      <td>False</td>\n",
       "      <td>False</td>\n",
       "      <td>False</td>\n",
       "      <td>True</td>\n",
       "      <td>False</td>\n",
       "      <td>False</td>\n",
       "    </tr>\n",
       "    <tr>\n",
       "      <th>153</th>\n",
       "      <td>-0.353393</td>\n",
       "      <td>-1.078431</td>\n",
       "      <td>2.205129</td>\n",
       "      <td>-0.530538</td>\n",
       "      <td>-0.840310</td>\n",
       "      <td>-1.067671</td>\n",
       "      <td>0.885740</td>\n",
       "      <td>0.909625</td>\n",
       "      <td>False</td>\n",
       "      <td>True</td>\n",
       "      <td>...</td>\n",
       "      <td>False</td>\n",
       "      <td>False</td>\n",
       "      <td>False</td>\n",
       "      <td>True</td>\n",
       "      <td>False</td>\n",
       "      <td>False</td>\n",
       "      <td>False</td>\n",
       "      <td>False</td>\n",
       "      <td>False</td>\n",
       "      <td>False</td>\n",
       "    </tr>\n",
       "    <tr>\n",
       "      <th>96</th>\n",
       "      <td>-0.710909</td>\n",
       "      <td>-0.984972</td>\n",
       "      <td>0.317992</td>\n",
       "      <td>-1.125445</td>\n",
       "      <td>-0.719947</td>\n",
       "      <td>-0.890221</td>\n",
       "      <td>0.885740</td>\n",
       "      <td>0.909625</td>\n",
       "      <td>False</td>\n",
       "      <td>True</td>\n",
       "      <td>...</td>\n",
       "      <td>False</td>\n",
       "      <td>False</td>\n",
       "      <td>False</td>\n",
       "      <td>True</td>\n",
       "      <td>False</td>\n",
       "      <td>False</td>\n",
       "      <td>False</td>\n",
       "      <td>False</td>\n",
       "      <td>False</td>\n",
       "      <td>False</td>\n",
       "    </tr>\n",
       "    <tr>\n",
       "      <th>38</th>\n",
       "      <td>-0.532151</td>\n",
       "      <td>-0.330755</td>\n",
       "      <td>-0.174305</td>\n",
       "      <td>-0.513210</td>\n",
       "      <td>-0.407003</td>\n",
       "      <td>-0.459269</td>\n",
       "      <td>0.272823</td>\n",
       "      <td>0.327351</td>\n",
       "      <td>False</td>\n",
       "      <td>True</td>\n",
       "      <td>...</td>\n",
       "      <td>False</td>\n",
       "      <td>False</td>\n",
       "      <td>True</td>\n",
       "      <td>False</td>\n",
       "      <td>False</td>\n",
       "      <td>False</td>\n",
       "      <td>False</td>\n",
       "      <td>False</td>\n",
       "      <td>False</td>\n",
       "      <td>False</td>\n",
       "    </tr>\n",
       "    <tr>\n",
       "      <th>...</th>\n",
       "      <td>...</td>\n",
       "      <td>...</td>\n",
       "      <td>...</td>\n",
       "      <td>...</td>\n",
       "      <td>...</td>\n",
       "      <td>...</td>\n",
       "      <td>...</td>\n",
       "      <td>...</td>\n",
       "      <td>...</td>\n",
       "      <td>...</td>\n",
       "      <td>...</td>\n",
       "      <td>...</td>\n",
       "      <td>...</td>\n",
       "      <td>...</td>\n",
       "      <td>...</td>\n",
       "      <td>...</td>\n",
       "      <td>...</td>\n",
       "      <td>...</td>\n",
       "      <td>...</td>\n",
       "      <td>...</td>\n",
       "      <td>...</td>\n",
       "    </tr>\n",
       "    <tr>\n",
       "      <th>106</th>\n",
       "      <td>0.361638</td>\n",
       "      <td>0.930947</td>\n",
       "      <td>-1.651195</td>\n",
       "      <td>1.123266</td>\n",
       "      <td>1.302152</td>\n",
       "      <td>1.416637</td>\n",
       "      <td>-0.953012</td>\n",
       "      <td>-0.837195</td>\n",
       "      <td>False</td>\n",
       "      <td>True</td>\n",
       "      <td>...</td>\n",
       "      <td>False</td>\n",
       "      <td>False</td>\n",
       "      <td>False</td>\n",
       "      <td>False</td>\n",
       "      <td>False</td>\n",
       "      <td>False</td>\n",
       "      <td>False</td>\n",
       "      <td>True</td>\n",
       "      <td>False</td>\n",
       "      <td>False</td>\n",
       "    </tr>\n",
       "    <tr>\n",
       "      <th>14</th>\n",
       "      <td>1.214799</td>\n",
       "      <td>0.463650</td>\n",
       "      <td>0.810288</td>\n",
       "      <td>0.961544</td>\n",
       "      <td>0.892917</td>\n",
       "      <td>0.427984</td>\n",
       "      <td>-0.799782</td>\n",
       "      <td>-0.837195</td>\n",
       "      <td>False</td>\n",
       "      <td>True</td>\n",
       "      <td>...</td>\n",
       "      <td>False</td>\n",
       "      <td>False</td>\n",
       "      <td>False</td>\n",
       "      <td>False</td>\n",
       "      <td>False</td>\n",
       "      <td>False</td>\n",
       "      <td>False</td>\n",
       "      <td>True</td>\n",
       "      <td>False</td>\n",
       "      <td>False</td>\n",
       "    </tr>\n",
       "    <tr>\n",
       "      <th>92</th>\n",
       "      <td>-0.710909</td>\n",
       "      <td>-0.984972</td>\n",
       "      <td>0.317992</td>\n",
       "      <td>-1.188979</td>\n",
       "      <td>-0.719947</td>\n",
       "      <td>-0.890221</td>\n",
       "      <td>0.885740</td>\n",
       "      <td>0.909625</td>\n",
       "      <td>False</td>\n",
       "      <td>True</td>\n",
       "      <td>...</td>\n",
       "      <td>False</td>\n",
       "      <td>False</td>\n",
       "      <td>False</td>\n",
       "      <td>True</td>\n",
       "      <td>False</td>\n",
       "      <td>False</td>\n",
       "      <td>False</td>\n",
       "      <td>False</td>\n",
       "      <td>False</td>\n",
       "      <td>False</td>\n",
       "    </tr>\n",
       "    <tr>\n",
       "      <th>179</th>\n",
       "      <td>0.767905</td>\n",
       "      <td>0.837488</td>\n",
       "      <td>-0.707626</td>\n",
       "      <td>0.886458</td>\n",
       "      <td>1.061426</td>\n",
       "      <td>1.441987</td>\n",
       "      <td>-0.953012</td>\n",
       "      <td>-0.982764</td>\n",
       "      <td>False</td>\n",
       "      <td>True</td>\n",
       "      <td>...</td>\n",
       "      <td>False</td>\n",
       "      <td>False</td>\n",
       "      <td>False</td>\n",
       "      <td>False</td>\n",
       "      <td>False</td>\n",
       "      <td>False</td>\n",
       "      <td>False</td>\n",
       "      <td>True</td>\n",
       "      <td>False</td>\n",
       "      <td>False</td>\n",
       "    </tr>\n",
       "    <tr>\n",
       "      <th>102</th>\n",
       "      <td>0.857284</td>\n",
       "      <td>0.276731</td>\n",
       "      <td>0.974387</td>\n",
       "      <td>1.425533</td>\n",
       "      <td>1.302152</td>\n",
       "      <td>1.213836</td>\n",
       "      <td>-1.259470</td>\n",
       "      <td>-1.273900</td>\n",
       "      <td>False</td>\n",
       "      <td>True</td>\n",
       "      <td>...</td>\n",
       "      <td>False</td>\n",
       "      <td>False</td>\n",
       "      <td>False</td>\n",
       "      <td>False</td>\n",
       "      <td>False</td>\n",
       "      <td>False</td>\n",
       "      <td>False</td>\n",
       "      <td>True</td>\n",
       "      <td>False</td>\n",
       "      <td>False</td>\n",
       "    </tr>\n",
       "  </tbody>\n",
       "</table>\n",
       "<p>164 rows × 46 columns</p>\n",
       "</div>"
      ],
      "text/plain": [
       "     carlength  carwidth  carheight  curbweight  enginesize  horsepower  \\\n",
       "66    0.077250  0.089812   0.276967    0.278074    0.170739   -0.814171   \n",
       "111   1.027916  1.164596   1.220535    1.000049   -0.166277   -0.231119   \n",
       "153  -0.353393 -1.078431   2.205129   -0.530538   -0.840310   -1.067671   \n",
       "96   -0.710909 -0.984972   0.317992   -1.125445   -0.719947   -0.890221   \n",
       "38   -0.532151 -0.330755  -0.174305   -0.513210   -0.407003   -0.459269   \n",
       "..         ...       ...        ...         ...         ...         ...   \n",
       "106   0.361638  0.930947  -1.651195    1.123266    1.302152    1.416637   \n",
       "14    1.214799  0.463650   0.810288    0.961544    0.892917    0.427984   \n",
       "92   -0.710909 -0.984972   0.317992   -1.188979   -0.719947   -0.890221   \n",
       "179   0.767905  0.837488  -0.707626    0.886458    1.061426    1.441987   \n",
       "102   0.857284  0.276731   0.974387    1.425533    1.302152    1.213836   \n",
       "\n",
       "      citympg  highwaympg  fueltype_diesel  fueltype_gas  ...  \\\n",
       "66   0.885740    1.200761             True         False  ...   \n",
       "111 -0.953012   -0.982764            False          True  ...   \n",
       "153  0.885740    0.909625            False          True  ...   \n",
       "96   0.885740    0.909625            False          True  ...   \n",
       "38   0.272823    0.327351            False          True  ...   \n",
       "..        ...         ...              ...           ...  ...   \n",
       "106 -0.953012   -0.837195            False          True  ...   \n",
       "14  -0.799782   -0.837195            False          True  ...   \n",
       "92   0.885740    0.909625            False          True  ...   \n",
       "179 -0.953012   -0.982764            False          True  ...   \n",
       "102 -1.259470   -1.273900            False          True  ...   \n",
       "\n",
       "     cylindernumber_twelve  cylindernumber_two  fuelsystem_1bbl  \\\n",
       "66                   False               False            False   \n",
       "111                  False               False            False   \n",
       "153                  False               False            False   \n",
       "96                   False               False            False   \n",
       "38                   False               False             True   \n",
       "..                     ...                 ...              ...   \n",
       "106                  False               False            False   \n",
       "14                   False               False            False   \n",
       "92                   False               False            False   \n",
       "179                  False               False            False   \n",
       "102                  False               False            False   \n",
       "\n",
       "     fuelsystem_2bbl  fuelsystem_4bbl  fuelsystem_idi  fuelsystem_mfi  \\\n",
       "66             False            False            True           False   \n",
       "111            False            False           False           False   \n",
       "153             True            False           False           False   \n",
       "96              True            False           False           False   \n",
       "38             False            False           False           False   \n",
       "..               ...              ...             ...             ...   \n",
       "106            False            False           False           False   \n",
       "14             False            False           False           False   \n",
       "92              True            False           False           False   \n",
       "179            False            False           False           False   \n",
       "102            False            False           False           False   \n",
       "\n",
       "     fuelsystem_mpfi  fuelsystem_spdi  fuelsystem_spfi  \n",
       "66             False            False            False  \n",
       "111             True            False            False  \n",
       "153            False            False            False  \n",
       "96             False            False            False  \n",
       "38             False            False            False  \n",
       "..               ...              ...              ...  \n",
       "106             True            False            False  \n",
       "14              True            False            False  \n",
       "92             False            False            False  \n",
       "179             True            False            False  \n",
       "102             True            False            False  \n",
       "\n",
       "[164 rows x 46 columns]"
      ]
     },
     "execution_count": 41,
     "metadata": {},
     "output_type": "execute_result"
    }
   ],
   "source": [
    "X_train"
   ]
  },
  {
   "cell_type": "markdown",
   "id": "cea8d9ba",
   "metadata": {
    "papermill": {
     "duration": 0.032473,
     "end_time": "2023-10-28T18:45:29.569253",
     "exception": false,
     "start_time": "2023-10-28T18:45:29.536780",
     "status": "completed"
    },
    "tags": []
   },
   "source": [
    "## Regressions"
   ]
  },
  {
   "cell_type": "code",
   "execution_count": null,
   "id": "b47bf143",
   "metadata": {
    "execution": {
     "iopub.execute_input": "2023-10-28T18:45:29.638121Z",
     "iopub.status.busy": "2023-10-28T18:45:29.637515Z",
     "iopub.status.idle": "2023-10-28T18:45:30.135395Z",
     "shell.execute_reply": "2023-10-28T18:45:30.134427Z"
    },
    "papermill": {
     "duration": 0.536225,
     "end_time": "2023-10-28T18:45:30.138158",
     "exception": false,
     "start_time": "2023-10-28T18:45:29.601933",
     "status": "completed"
    },
    "tags": []
   },
   "outputs": [
    {
     "name": "stdout",
     "output_type": "stream",
     "text": [
      "Evaluating LinearRegression model : \n",
      "R2 Score of LinearRegression model on Training Data: 93.40\n",
      "R2 Score of LinearRegression model on Testing Data: 87.48\n",
      "\n",
      "\n",
      "Evaluating DecisionTreeRegressor model : \n",
      "R2 Score of DecisionTreeRegressor model on Training Data: 99.87\n",
      "R2 Score of DecisionTreeRegressor model on Testing Data: 89.23\n",
      "\n",
      "\n",
      "Evaluating RandomForestRegressor model : \n",
      "R2 Score of RandomForestRegressor model on Training Data: 98.54\n",
      "R2 Score of RandomForestRegressor model on Testing Data: 95.62\n",
      "\n",
      "\n",
      "Evaluating SVR model : \n",
      "R2 Score of SVR model on Training Data: -10.71\n",
      "R2 Score of SVR model on Testing Data: -9.89\n",
      "\n",
      "\n",
      "Evaluating KNeighborsRegressor model : \n",
      "R2 Score of KNeighborsRegressor model on Training Data: 90.63\n",
      "R2 Score of KNeighborsRegressor model on Testing Data: 78.27\n",
      "\n",
      "\n",
      "The best model is RandomForestRegressor with an R2 score of 95.62 on the testing data.\n"
     ]
    }
   ],
   "source": [
    "X_train, X_test, y_train, y_test = train_test_split(X,y, test_size=0.2, random_state=42)\n",
    "\n",
    "# Reshape the target variables to 1D arrays\n",
    "y_train = y_train.ravel()\n",
    "y_test = y_test.ravel()\n",
    "\n",
    "# Create a list of regression models to evaluate\n",
    "regression_models = [\n",
    "    LinearRegression(),\n",
    "    DecisionTreeRegressor(),\n",
    "    RandomForestRegressor(n_estimators=100),\n",
    "    SVR(),\n",
    "    KNeighborsRegressor()\n",
    "]\n",
    "\n",
    "training_scores = []\n",
    "testing_scores = []\n",
    "\n",
    "def model_prediction(model, x_train, y_train, x_test, y_test):\n",
    "    model.fit(x_train, y_train)\n",
    "    x_train_pred = model.predict(x_train)\n",
    "    x_test_pred = model.predict(x_test)\n",
    "    a = r2_score(y_train, x_train_pred) * 100\n",
    "    b = r2_score(y_test, x_test_pred) * 100\n",
    "    training_scores.append(a)\n",
    "    testing_scores.append(b)\n",
    "    \n",
    "    print(f\"R2 Score of {type(model).__name__} model on Training Data: {a:.2f}\")\n",
    "    print(f\"R2 Score of {type(model).__name__} model on Testing Data: {b:.2f}\")\n",
    "\n",
    "for model in regression_models:\n",
    "    print(f\"Evaluating {type(model).__name__} model : \")\n",
    "    model_prediction(model, X_train, y_train, X_test, y_test)\n",
    "    print(\"\\n\")\n",
    "\n",
    "best_model_index = testing_scores.index(max(testing_scores))\n",
    "best_model = regression_models[best_model_index]\n",
    "best_test_score = testing_scores[best_model_index]\n",
    "\n",
    "print(f\"The best model is {type(best_model).__name__} with an R2 score of {best_test_score:.2f} on the testing data.\")\n"
   ]
  },
  {
   "cell_type": "code",
   "execution_count": null,
   "id": "2cd52690",
   "metadata": {
    "execution": {
     "iopub.execute_input": "2023-10-28T18:45:30.211342Z",
     "iopub.status.busy": "2023-10-28T18:45:30.210958Z",
     "iopub.status.idle": "2023-10-28T18:45:30.216341Z",
     "shell.execute_reply": "2023-10-28T18:45:30.215230Z"
    },
    "papermill": {
     "duration": 0.045102,
     "end_time": "2023-10-28T18:45:30.219147",
     "exception": false,
     "start_time": "2023-10-28T18:45:30.174045",
     "status": "completed"
    },
    "tags": []
   },
   "outputs": [],
   "source": [
    "# Access to model\n",
    "RandomForestRegressor = regression_models[2]"
   ]
  },
  {
   "cell_type": "markdown",
   "id": "867ec09b",
   "metadata": {
    "papermill": {
     "duration": 0.034889,
     "end_time": "2023-10-28T18:45:30.288877",
     "exception": false,
     "start_time": "2023-10-28T18:45:30.253988",
     "status": "completed"
    },
    "tags": []
   },
   "source": [
    "# Pickling the model file for deployment"
   ]
  },
  {
   "cell_type": "code",
   "execution_count": null,
   "id": "59711980",
   "metadata": {
    "execution": {
     "iopub.execute_input": "2023-10-28T18:45:30.360183Z",
     "iopub.status.busy": "2023-10-28T18:45:30.358881Z",
     "iopub.status.idle": "2023-10-28T18:45:30.373421Z",
     "shell.execute_reply": "2023-10-28T18:45:30.371514Z"
    },
    "papermill": {
     "duration": 0.053319,
     "end_time": "2023-10-28T18:45:30.377293",
     "exception": false,
     "start_time": "2023-10-28T18:45:30.323974",
     "status": "completed"
    },
    "tags": []
   },
   "outputs": [],
   "source": [
    "pickle.dump(RandomForestRegressor,open('RFRegressorModel.pkl','wb'))"
   ]
  },
  {
   "cell_type": "code",
   "execution_count": null,
   "id": "b951e8ad",
   "metadata": {
    "execution": {
     "iopub.execute_input": "2023-10-28T18:45:30.446351Z",
     "iopub.status.busy": "2023-10-28T18:45:30.445964Z",
     "iopub.status.idle": "2023-10-28T18:45:30.457245Z",
     "shell.execute_reply": "2023-10-28T18:45:30.456121Z"
    },
    "papermill": {
     "duration": 0.048508,
     "end_time": "2023-10-28T18:45:30.460161",
     "exception": false,
     "start_time": "2023-10-28T18:45:30.411653",
     "status": "completed"
    },
    "tags": []
   },
   "outputs": [],
   "source": [
    "pickled_model = pickle.load(open('RFRegressorModel.pkl','rb'))"
   ]
  },
  {
   "cell_type": "code",
   "execution_count": null,
   "id": "16e4479d",
   "metadata": {
    "execution": {
     "iopub.execute_input": "2023-10-28T18:45:30.531802Z",
     "iopub.status.busy": "2023-10-28T18:45:30.531145Z",
     "iopub.status.idle": "2023-10-28T18:45:30.535937Z",
     "shell.execute_reply": "2023-10-28T18:45:30.534855Z"
    },
    "papermill": {
     "duration": 0.042861,
     "end_time": "2023-10-28T18:45:30.538450",
     "exception": false,
     "start_time": "2023-10-28T18:45:30.495589",
     "status": "completed"
    },
    "tags": []
   },
   "outputs": [],
   "source": [
    "row_to_predict = X_test.iloc[1]"
   ]
  },
  {
   "cell_type": "code",
   "execution_count": null,
   "id": "55c6d3d9",
   "metadata": {
    "execution": {
     "iopub.execute_input": "2023-10-28T18:45:30.607761Z",
     "iopub.status.busy": "2023-10-28T18:45:30.607060Z",
     "iopub.status.idle": "2023-10-28T18:45:30.618096Z",
     "shell.execute_reply": "2023-10-28T18:45:30.617060Z"
    },
    "papermill": {
     "duration": 0.049493,
     "end_time": "2023-10-28T18:45:30.620904",
     "exception": false,
     "start_time": "2023-10-28T18:45:30.571411",
     "status": "completed"
    },
    "tags": []
   },
   "outputs": [],
   "source": [
    "# Prediction\n",
    "prediction = pickled_model.predict([row_to_predict])"
   ]
  },
  {
   "cell_type": "code",
   "execution_count": null,
   "id": "9f04432c",
   "metadata": {
    "execution": {
     "iopub.execute_input": "2023-10-28T18:45:30.691474Z",
     "iopub.status.busy": "2023-10-28T18:45:30.690848Z",
     "iopub.status.idle": "2023-10-28T18:45:30.697209Z",
     "shell.execute_reply": "2023-10-28T18:45:30.695958Z"
    },
    "papermill": {
     "duration": 0.044076,
     "end_time": "2023-10-28T18:45:30.699643",
     "exception": false,
     "start_time": "2023-10-28T18:45:30.655567",
     "status": "completed"
    },
    "tags": []
   },
   "outputs": [
    {
     "data": {
      "text/plain": [
       "array([18275.08])"
      ]
     },
     "execution_count": 48,
     "metadata": {},
     "output_type": "execute_result"
    }
   ],
   "source": [
    "prediction"
   ]
  }
 ],
 "metadata": {
  "kernelspec": {
   "display_name": "Python 3",
   "language": "python",
   "name": "python3"
  },
  "language_info": {
   "codemirror_mode": {
    "name": "ipython",
    "version": 3
   },
   "file_extension": ".py",
   "mimetype": "text/x-python",
   "name": "python",
   "nbconvert_exporter": "python",
   "pygments_lexer": "ipython3",
   "version": "3.11.5"
  },
  "papermill": {
   "default_parameters": {},
   "duration": 24.418697,
   "end_time": "2023-10-28T18:45:31.755993",
   "environment_variables": {},
   "exception": null,
   "input_path": "__notebook__.ipynb",
   "output_path": "__notebook__.ipynb",
   "parameters": {},
   "start_time": "2023-10-28T18:45:07.337296",
   "version": "2.4.0"
  }
 },
 "nbformat": 4,
 "nbformat_minor": 5
}
